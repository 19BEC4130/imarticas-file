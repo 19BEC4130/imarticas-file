{
 "cells": [
  {
   "cell_type": "markdown",
   "metadata": {
    "id": "tN3KeDsD-2Wi"
   },
   "source": [
    "***\n",
    "# **BANK MARKETING ANALYSIS AND PREDICTION**\n",
    "***"
   ]
  },
  {
   "cell_type": "markdown",
   "metadata": {},
   "source": [
    "# \n",
    "<tr>\n",
    "        <td>\n",
    "            <div align=\"right\">\n",
    "                <font size=4px>\n",
    "                    <b>- USING ML AND POWERBI\n",
    "                    </b>\n",
    "                </font>\n",
    "            </div>\n",
    "        </td>\n",
    "    </tr>"
   ]
  },
  {
   "cell_type": "markdown",
   "metadata": {
    "id": "A2TV8m4xADCb"
   },
   "source": [
    "***\n",
    "## Introduction\n",
    "***\n"
   ]
  },
  {
   "cell_type": "markdown",
   "metadata": {
    "id": "pqgCvH3iliqn"
   },
   "source": [
    "Today organizations, which hire marketing management are analysis of organization's marketing data which is one of the most typical applications of data science and machine learning. Such analysis will definetely be a good contribution to the institution.Prediction of the results of the marketing campaign for each customer and clarification of factors which affect the campaign results. This helps to find out the ways how to make marketing campaigns more efficient. Finding out customer segments, using data for customers, who subscribed to term deposit. This helps to identify the profile of a customer, who is more likely to acquire the product and develop more targeted marketing campaigns\n"
   ]
  },
  {
   "cell_type": "markdown",
   "metadata": {
    "id": "FUPDAfFTAfnZ"
   },
   "source": [
    "`Problem Statement`"
   ]
  },
  {
   "cell_type": "markdown",
   "metadata": {
    "id": "w2i6dkUQ_VO-"
   },
   "source": [
    "\n",
    "  Improve bank marketing of a bank by analyzing their past marketing campaign data and recommending which customer to target. Predicting the future results of marketing compaigns based on available statistics and, accordingly, formulating recommendations for such companies in the future. Building a profile of a consumer of banking services (deposits)."
   ]
  },
  {
   "cell_type": "markdown",
   "metadata": {
    "id": "OWvxXcqFArfc"
   },
   "source": [
    " `Objective`"
   ]
  },
  {
   "cell_type": "markdown",
   "metadata": {
    "id": "ibDogJy__ZGv"
   },
   "source": [
    "   The aim of this project is to devise such a machine leaning prediction algorithm, the bank can better target its customers and channelize its marketing efforts."
   ]
  },
  {
   "cell_type": "markdown",
   "metadata": {
    "id": "e6nYf8T5A0rC"
   },
   "source": [
    "## Data Definition\n",
    "---"
   ]
  },
  {
   "cell_type": "markdown",
   "metadata": {
    "id": "hFEAdT3Alyy2"
   },
   "source": [
    "**Input Variables**\n",
    "\n",
    "**1.age** :numerical value\n",
    "\n",
    "**2.Job** : type of job (categorical: 'admin.', 'blue-collar', 'entrepreneur', 'housemaid', 'management', 'retired', 'self-employed', 'services', 'student', 'technician', 'unemployed', 'unknown')\n",
    "\n",
    "**3.Marital** : marital status (categorical: 'divorced', 'married', 'single', 'unknown' ; note: 'divorced' means divorced or widowed)\n",
    "\n",
    "**4.Education** (categorical: 'primary', 'secondary', 'Teritary', 'unknown')\n",
    "\n",
    "**5.Default**: has credit in default? (categorical: 'no', 'yes', 'unknown')\n",
    "\n",
    "**6.Housing**: has housing loan? (categorical: 'no', 'yes', 'unknown')\n",
    "\n",
    "**7.Loan**: has personal loan? (categorical: 'no', 'yes', 'unknown')\n",
    "\n",
    "**8.Related with the last contact of the current campaign:**\n",
    "\n",
    "**9.Contact**: contact communication type (categorical: 'cellular','telephone') \n",
    "\n",
    "**10.Month**: last contact month of year (categorical: 'jan', 'feb', 'mar', ..., 'nov', 'dec')\n",
    "\n",
    "**11.Day_of_week**: last contact day of the week ('numerical')\n",
    "\n",
    "**12.Duration**: last contact duration, in days (numeric). \n",
    "\n",
    "\n",
    "**Output variable (Target Variable)**\n",
    "\n",
    "**14.Deposit** : has the client subscribed a term deposit? (binary: 'yes', 'no')\n"
   ]
  },
  {
   "cell_type": "markdown",
   "metadata": {
    "id": "KfnGIonOppEp"
   },
   "source": [
    "***\n",
    "## 1.Import Data From MySQL Database\n",
    "***"
   ]
  },
  {
   "cell_type": "code",
   "execution_count": 1,
   "metadata": {},
   "outputs": [
    {
     "name": "stdout",
     "output_type": "stream",
     "text": [
      "Requirement already satisfied: mysql-connector-python in c:\\users\\sssab\\anaconda3\\lib\\site-packages (8.0.28)\n",
      "Requirement already satisfied: protobuf>=3.0.0 in c:\\users\\sssab\\anaconda3\\lib\\site-packages (from mysql-connector-python) (4.21.2)\n",
      "Note: you may need to restart the kernel to use updated packages.\n"
     ]
    }
   ],
   "source": [
    "pip install mysql-connector-python"
   ]
  },
  {
   "cell_type": "code",
   "execution_count": 2,
   "metadata": {
    "id": "b3EHmdP1maTl"
   },
   "outputs": [],
   "source": [
    "import pandas as pd\n",
    "import numpy as np\n",
    "import matplotlib.pyplot as plt\n",
    "import seaborn as sns\n",
    "import sklearn \n",
    "import warnings\n",
    "warnings.filterwarnings('ignore')\n",
    "import mysql.connector as mysql"
   ]
  },
  {
   "cell_type": "markdown",
   "metadata": {
    "id": "j3A919_YQX0I"
   },
   "source": [
    "## 1.1 MySQL Connect"
   ]
  },
  {
   "cell_type": "code",
   "execution_count": 3,
   "metadata": {
    "colab": {
     "base_uri": "https://localhost:8080/",
     "height": 424
    },
    "id": "cAIZUHmaOjHG",
    "outputId": "995ebdd9-c817-4f0c-a571-0e30ad622b62"
   },
   "outputs": [
    {
     "data": {
      "text/plain": [
       "<mysql.connector.connection_cext.CMySQLConnection at 0x2c889796bb0>"
      ]
     },
     "execution_count": 3,
     "metadata": {},
     "output_type": "execute_result"
    }
   ],
   "source": [
    "db=mysql.connect(host=\"localhost\",user=\"root\",password=\"Naveenb@22\",database=\"Capstone\",auth_plugin=\"mysql_native_password\")\n",
    "db"
   ]
  },
  {
   "cell_type": "code",
   "execution_count": 4,
   "metadata": {},
   "outputs": [],
   "source": [
    "#set cursor object\n",
    "mycursor=db.cursor()\n",
    "mycursor=db.cursor(buffered=True,dictionary=True)"
   ]
  },
  {
   "cell_type": "markdown",
   "metadata": {},
   "source": [
    "## 1.2 Read Data From MySQL Database"
   ]
  },
  {
   "cell_type": "code",
   "execution_count": 5,
   "metadata": {},
   "outputs": [],
   "source": [
    "#Access table from database\n",
    "mycursor.execute('SELECT * FROM `bank marketing analysis1`')"
   ]
  },
  {
   "cell_type": "code",
   "execution_count": 6,
   "metadata": {},
   "outputs": [
    {
     "data": {
      "text/html": [
       "<div>\n",
       "<style scoped>\n",
       "    .dataframe tbody tr th:only-of-type {\n",
       "        vertical-align: middle;\n",
       "    }\n",
       "\n",
       "    .dataframe tbody tr th {\n",
       "        vertical-align: top;\n",
       "    }\n",
       "\n",
       "    .dataframe thead th {\n",
       "        text-align: right;\n",
       "    }\n",
       "</style>\n",
       "<table border=\"1\" class=\"dataframe\">\n",
       "  <thead>\n",
       "    <tr style=\"text-align: right;\">\n",
       "      <th></th>\n",
       "      <th>Id</th>\n",
       "      <th>age</th>\n",
       "      <th>job</th>\n",
       "      <th>marital</th>\n",
       "      <th>education</th>\n",
       "      <th>default</th>\n",
       "      <th>Acc_balance</th>\n",
       "      <th>housing</th>\n",
       "      <th>loan</th>\n",
       "      <th>contact</th>\n",
       "      <th>day</th>\n",
       "      <th>month</th>\n",
       "      <th>duration</th>\n",
       "      <th>campaign</th>\n",
       "      <th>poutcome</th>\n",
       "      <th>deposit</th>\n",
       "    </tr>\n",
       "  </thead>\n",
       "  <tbody>\n",
       "    <tr>\n",
       "      <th>0</th>\n",
       "      <td>1001</td>\n",
       "      <td>45</td>\n",
       "      <td>management</td>\n",
       "      <td>married</td>\n",
       "      <td>tertiary</td>\n",
       "      <td>no</td>\n",
       "      <td>2143</td>\n",
       "      <td>yes</td>\n",
       "      <td>no</td>\n",
       "      <td>unknown</td>\n",
       "      <td>5</td>\n",
       "      <td>may</td>\n",
       "      <td>261</td>\n",
       "      <td>1</td>\n",
       "      <td>unknown</td>\n",
       "      <td>no</td>\n",
       "    </tr>\n",
       "    <tr>\n",
       "      <th>1</th>\n",
       "      <td>1002</td>\n",
       "      <td>44</td>\n",
       "      <td>technician</td>\n",
       "      <td>single</td>\n",
       "      <td>secondary</td>\n",
       "      <td>no</td>\n",
       "      <td>29</td>\n",
       "      <td>yes</td>\n",
       "      <td>no</td>\n",
       "      <td>unknown</td>\n",
       "      <td>5</td>\n",
       "      <td>may</td>\n",
       "      <td>151</td>\n",
       "      <td>1</td>\n",
       "      <td>unknown</td>\n",
       "      <td>no</td>\n",
       "    </tr>\n",
       "    <tr>\n",
       "      <th>2</th>\n",
       "      <td>1003</td>\n",
       "      <td>33</td>\n",
       "      <td>entrepreneur</td>\n",
       "      <td>married</td>\n",
       "      <td>secondary</td>\n",
       "      <td>no</td>\n",
       "      <td>2</td>\n",
       "      <td>yes</td>\n",
       "      <td>yes</td>\n",
       "      <td>unknown</td>\n",
       "      <td>5</td>\n",
       "      <td>may</td>\n",
       "      <td>76</td>\n",
       "      <td>1</td>\n",
       "      <td>unknown</td>\n",
       "      <td>no</td>\n",
       "    </tr>\n",
       "    <tr>\n",
       "      <th>3</th>\n",
       "      <td>1004</td>\n",
       "      <td>47</td>\n",
       "      <td>blue-collar</td>\n",
       "      <td>married</td>\n",
       "      <td>unknown</td>\n",
       "      <td>no</td>\n",
       "      <td>1506</td>\n",
       "      <td>yes</td>\n",
       "      <td>no</td>\n",
       "      <td>unknown</td>\n",
       "      <td>5</td>\n",
       "      <td>may</td>\n",
       "      <td>92</td>\n",
       "      <td>1</td>\n",
       "      <td>unknown</td>\n",
       "      <td>no</td>\n",
       "    </tr>\n",
       "    <tr>\n",
       "      <th>4</th>\n",
       "      <td>1005</td>\n",
       "      <td>33</td>\n",
       "      <td>unknown</td>\n",
       "      <td>single</td>\n",
       "      <td>unknown</td>\n",
       "      <td>no</td>\n",
       "      <td>1</td>\n",
       "      <td>no</td>\n",
       "      <td>no</td>\n",
       "      <td>unknown</td>\n",
       "      <td>5</td>\n",
       "      <td>may</td>\n",
       "      <td>198</td>\n",
       "      <td>1</td>\n",
       "      <td>unknown</td>\n",
       "      <td>no</td>\n",
       "    </tr>\n",
       "    <tr>\n",
       "      <th>...</th>\n",
       "      <td>...</td>\n",
       "      <td>...</td>\n",
       "      <td>...</td>\n",
       "      <td>...</td>\n",
       "      <td>...</td>\n",
       "      <td>...</td>\n",
       "      <td>...</td>\n",
       "      <td>...</td>\n",
       "      <td>...</td>\n",
       "      <td>...</td>\n",
       "      <td>...</td>\n",
       "      <td>...</td>\n",
       "      <td>...</td>\n",
       "      <td>...</td>\n",
       "      <td>...</td>\n",
       "      <td>...</td>\n",
       "    </tr>\n",
       "    <tr>\n",
       "      <th>4995</th>\n",
       "      <td>5996</td>\n",
       "      <td>21</td>\n",
       "      <td>student</td>\n",
       "      <td>single</td>\n",
       "      <td>secondary</td>\n",
       "      <td>no</td>\n",
       "      <td>232</td>\n",
       "      <td>yes</td>\n",
       "      <td>no</td>\n",
       "      <td>unknown</td>\n",
       "      <td>21</td>\n",
       "      <td>may</td>\n",
       "      <td>110</td>\n",
       "      <td>2</td>\n",
       "      <td>unknown</td>\n",
       "      <td>no</td>\n",
       "    </tr>\n",
       "    <tr>\n",
       "      <th>4996</th>\n",
       "      <td>5997</td>\n",
       "      <td>31</td>\n",
       "      <td>management</td>\n",
       "      <td>single</td>\n",
       "      <td>tertiary</td>\n",
       "      <td>no</td>\n",
       "      <td>385</td>\n",
       "      <td>yes</td>\n",
       "      <td>no</td>\n",
       "      <td>unknown</td>\n",
       "      <td>21</td>\n",
       "      <td>may</td>\n",
       "      <td>304</td>\n",
       "      <td>1</td>\n",
       "      <td>unknown</td>\n",
       "      <td>no</td>\n",
       "    </tr>\n",
       "    <tr>\n",
       "      <th>4997</th>\n",
       "      <td>5998</td>\n",
       "      <td>34</td>\n",
       "      <td>blue-collar</td>\n",
       "      <td>married</td>\n",
       "      <td>secondary</td>\n",
       "      <td>no</td>\n",
       "      <td>5304</td>\n",
       "      <td>yes</td>\n",
       "      <td>no</td>\n",
       "      <td>unknown</td>\n",
       "      <td>21</td>\n",
       "      <td>may</td>\n",
       "      <td>51</td>\n",
       "      <td>2</td>\n",
       "      <td>unknown</td>\n",
       "      <td>no</td>\n",
       "    </tr>\n",
       "    <tr>\n",
       "      <th>4998</th>\n",
       "      <td>5999</td>\n",
       "      <td>35</td>\n",
       "      <td>management</td>\n",
       "      <td>single</td>\n",
       "      <td>tertiary</td>\n",
       "      <td>no</td>\n",
       "      <td>71</td>\n",
       "      <td>yes</td>\n",
       "      <td>no</td>\n",
       "      <td>unknown</td>\n",
       "      <td>21</td>\n",
       "      <td>may</td>\n",
       "      <td>836</td>\n",
       "      <td>12</td>\n",
       "      <td>unknown</td>\n",
       "      <td>no</td>\n",
       "    </tr>\n",
       "    <tr>\n",
       "      <th>4999</th>\n",
       "      <td>6000</td>\n",
       "      <td>32</td>\n",
       "      <td>technician</td>\n",
       "      <td>single</td>\n",
       "      <td>unknown</td>\n",
       "      <td>no</td>\n",
       "      <td>317</td>\n",
       "      <td>yes</td>\n",
       "      <td>no</td>\n",
       "      <td>unknown</td>\n",
       "      <td>21</td>\n",
       "      <td>may</td>\n",
       "      <td>394</td>\n",
       "      <td>2</td>\n",
       "      <td>unknown</td>\n",
       "      <td>no</td>\n",
       "    </tr>\n",
       "  </tbody>\n",
       "</table>\n",
       "<p>5000 rows × 16 columns</p>\n",
       "</div>"
      ],
      "text/plain": [
       "        Id  age           job  marital  education default  Acc_balance  \\\n",
       "0     1001   45    management  married   tertiary      no         2143   \n",
       "1     1002   44    technician   single  secondary      no           29   \n",
       "2     1003   33  entrepreneur  married  secondary      no            2   \n",
       "3     1004   47   blue-collar  married    unknown      no         1506   \n",
       "4     1005   33       unknown   single    unknown      no            1   \n",
       "...    ...  ...           ...      ...        ...     ...          ...   \n",
       "4995  5996   21       student   single  secondary      no          232   \n",
       "4996  5997   31    management   single   tertiary      no          385   \n",
       "4997  5998   34   blue-collar  married  secondary      no         5304   \n",
       "4998  5999   35    management   single   tertiary      no           71   \n",
       "4999  6000   32    technician   single    unknown      no          317   \n",
       "\n",
       "     housing loan  contact  day month  duration  campaign poutcome deposit  \n",
       "0        yes   no  unknown    5   may       261         1  unknown      no  \n",
       "1        yes   no  unknown    5   may       151         1  unknown      no  \n",
       "2        yes  yes  unknown    5   may        76         1  unknown      no  \n",
       "3        yes   no  unknown    5   may        92         1  unknown      no  \n",
       "4         no   no  unknown    5   may       198         1  unknown      no  \n",
       "...      ...  ...      ...  ...   ...       ...       ...      ...     ...  \n",
       "4995     yes   no  unknown   21   may       110         2  unknown      no  \n",
       "4996     yes   no  unknown   21   may       304         1  unknown      no  \n",
       "4997     yes   no  unknown   21   may        51         2  unknown      no  \n",
       "4998     yes   no  unknown   21   may       836        12  unknown      no  \n",
       "4999     yes   no  unknown   21   may       394         2  unknown      no  \n",
       "\n",
       "[5000 rows x 16 columns]"
      ]
     },
     "execution_count": 6,
     "metadata": {},
     "output_type": "execute_result"
    }
   ],
   "source": [
    "df=pd.DataFrame(mycursor.fetchall())\n",
    "df=df.copy()\n",
    "df"
   ]
  },
  {
   "cell_type": "markdown",
   "metadata": {
    "id": "GeCm53DkKhXC"
   },
   "source": [
    "***\n",
    "## 2. Exploratory Data Analysis\n",
    "***"
   ]
  },
  {
   "cell_type": "code",
   "execution_count": 7,
   "metadata": {
    "colab": {
     "base_uri": "https://localhost:8080/"
    },
    "id": "DDr_pr-4nfXS",
    "outputId": "33a335a0-9fc0-4d20-b11b-e90d76a42365"
   },
   "outputs": [
    {
     "data": {
      "text/plain": [
       "(5000, 16)"
      ]
     },
     "execution_count": 7,
     "metadata": {},
     "output_type": "execute_result"
    }
   ],
   "source": [
    "# remove duplicates data, if any...\n",
    "df = df.drop_duplicates()\n",
    "df.shape"
   ]
  },
  {
   "cell_type": "code",
   "execution_count": 8,
   "metadata": {
    "colab": {
     "base_uri": "https://localhost:8080/",
     "height": 206
    },
    "id": "_0QgXwOXj-QI",
    "outputId": "b2ecb4fd-b085-4596-f128-58dc9e290ab8"
   },
   "outputs": [
    {
     "data": {
      "text/html": [
       "<div>\n",
       "<style scoped>\n",
       "    .dataframe tbody tr th:only-of-type {\n",
       "        vertical-align: middle;\n",
       "    }\n",
       "\n",
       "    .dataframe tbody tr th {\n",
       "        vertical-align: top;\n",
       "    }\n",
       "\n",
       "    .dataframe thead th {\n",
       "        text-align: right;\n",
       "    }\n",
       "</style>\n",
       "<table border=\"1\" class=\"dataframe\">\n",
       "  <thead>\n",
       "    <tr style=\"text-align: right;\">\n",
       "      <th></th>\n",
       "      <th>Id</th>\n",
       "      <th>age</th>\n",
       "      <th>job</th>\n",
       "      <th>marital</th>\n",
       "      <th>education</th>\n",
       "      <th>default</th>\n",
       "      <th>Acc_balance</th>\n",
       "      <th>housing</th>\n",
       "      <th>loan</th>\n",
       "      <th>contact</th>\n",
       "      <th>day</th>\n",
       "      <th>month</th>\n",
       "      <th>duration</th>\n",
       "      <th>campaign</th>\n",
       "      <th>poutcome</th>\n",
       "      <th>deposit</th>\n",
       "    </tr>\n",
       "  </thead>\n",
       "  <tbody>\n",
       "    <tr>\n",
       "      <th>0</th>\n",
       "      <td>1001</td>\n",
       "      <td>45</td>\n",
       "      <td>management</td>\n",
       "      <td>married</td>\n",
       "      <td>tertiary</td>\n",
       "      <td>no</td>\n",
       "      <td>2143</td>\n",
       "      <td>yes</td>\n",
       "      <td>no</td>\n",
       "      <td>unknown</td>\n",
       "      <td>5</td>\n",
       "      <td>may</td>\n",
       "      <td>261</td>\n",
       "      <td>1</td>\n",
       "      <td>unknown</td>\n",
       "      <td>no</td>\n",
       "    </tr>\n",
       "    <tr>\n",
       "      <th>1</th>\n",
       "      <td>1002</td>\n",
       "      <td>44</td>\n",
       "      <td>technician</td>\n",
       "      <td>single</td>\n",
       "      <td>secondary</td>\n",
       "      <td>no</td>\n",
       "      <td>29</td>\n",
       "      <td>yes</td>\n",
       "      <td>no</td>\n",
       "      <td>unknown</td>\n",
       "      <td>5</td>\n",
       "      <td>may</td>\n",
       "      <td>151</td>\n",
       "      <td>1</td>\n",
       "      <td>unknown</td>\n",
       "      <td>no</td>\n",
       "    </tr>\n",
       "    <tr>\n",
       "      <th>2</th>\n",
       "      <td>1003</td>\n",
       "      <td>33</td>\n",
       "      <td>entrepreneur</td>\n",
       "      <td>married</td>\n",
       "      <td>secondary</td>\n",
       "      <td>no</td>\n",
       "      <td>2</td>\n",
       "      <td>yes</td>\n",
       "      <td>yes</td>\n",
       "      <td>unknown</td>\n",
       "      <td>5</td>\n",
       "      <td>may</td>\n",
       "      <td>76</td>\n",
       "      <td>1</td>\n",
       "      <td>unknown</td>\n",
       "      <td>no</td>\n",
       "    </tr>\n",
       "    <tr>\n",
       "      <th>3</th>\n",
       "      <td>1004</td>\n",
       "      <td>47</td>\n",
       "      <td>blue-collar</td>\n",
       "      <td>married</td>\n",
       "      <td>unknown</td>\n",
       "      <td>no</td>\n",
       "      <td>1506</td>\n",
       "      <td>yes</td>\n",
       "      <td>no</td>\n",
       "      <td>unknown</td>\n",
       "      <td>5</td>\n",
       "      <td>may</td>\n",
       "      <td>92</td>\n",
       "      <td>1</td>\n",
       "      <td>unknown</td>\n",
       "      <td>no</td>\n",
       "    </tr>\n",
       "    <tr>\n",
       "      <th>4</th>\n",
       "      <td>1005</td>\n",
       "      <td>33</td>\n",
       "      <td>unknown</td>\n",
       "      <td>single</td>\n",
       "      <td>unknown</td>\n",
       "      <td>no</td>\n",
       "      <td>1</td>\n",
       "      <td>no</td>\n",
       "      <td>no</td>\n",
       "      <td>unknown</td>\n",
       "      <td>5</td>\n",
       "      <td>may</td>\n",
       "      <td>198</td>\n",
       "      <td>1</td>\n",
       "      <td>unknown</td>\n",
       "      <td>no</td>\n",
       "    </tr>\n",
       "  </tbody>\n",
       "</table>\n",
       "</div>"
      ],
      "text/plain": [
       "     Id  age           job  marital  education default  Acc_balance housing  \\\n",
       "0  1001   45    management  married   tertiary      no         2143     yes   \n",
       "1  1002   44    technician   single  secondary      no           29     yes   \n",
       "2  1003   33  entrepreneur  married  secondary      no            2     yes   \n",
       "3  1004   47   blue-collar  married    unknown      no         1506     yes   \n",
       "4  1005   33       unknown   single    unknown      no            1      no   \n",
       "\n",
       "  loan  contact  day month  duration  campaign poutcome deposit  \n",
       "0   no  unknown    5   may       261         1  unknown      no  \n",
       "1   no  unknown    5   may       151         1  unknown      no  \n",
       "2  yes  unknown    5   may        76         1  unknown      no  \n",
       "3   no  unknown    5   may        92         1  unknown      no  \n",
       "4   no  unknown    5   may       198         1  unknown      no  "
      ]
     },
     "execution_count": 8,
     "metadata": {},
     "output_type": "execute_result"
    }
   ],
   "source": [
    "#display first few rows of data\n",
    "df.head()"
   ]
  },
  {
   "cell_type": "code",
   "execution_count": 9,
   "metadata": {
    "colab": {
     "base_uri": "https://localhost:8080/",
     "height": 206
    },
    "id": "P_m1aMyAmMvT",
    "outputId": "43cdf5cb-2fca-4ec2-ce65-4338f2720a61"
   },
   "outputs": [
    {
     "data": {
      "text/html": [
       "<div>\n",
       "<style scoped>\n",
       "    .dataframe tbody tr th:only-of-type {\n",
       "        vertical-align: middle;\n",
       "    }\n",
       "\n",
       "    .dataframe tbody tr th {\n",
       "        vertical-align: top;\n",
       "    }\n",
       "\n",
       "    .dataframe thead th {\n",
       "        text-align: right;\n",
       "    }\n",
       "</style>\n",
       "<table border=\"1\" class=\"dataframe\">\n",
       "  <thead>\n",
       "    <tr style=\"text-align: right;\">\n",
       "      <th></th>\n",
       "      <th>Id</th>\n",
       "      <th>age</th>\n",
       "      <th>job</th>\n",
       "      <th>marital</th>\n",
       "      <th>education</th>\n",
       "      <th>default</th>\n",
       "      <th>Acc_balance</th>\n",
       "      <th>housing</th>\n",
       "      <th>loan</th>\n",
       "      <th>contact</th>\n",
       "      <th>day</th>\n",
       "      <th>month</th>\n",
       "      <th>duration</th>\n",
       "      <th>campaign</th>\n",
       "      <th>poutcome</th>\n",
       "      <th>deposit</th>\n",
       "    </tr>\n",
       "  </thead>\n",
       "  <tbody>\n",
       "    <tr>\n",
       "      <th>4995</th>\n",
       "      <td>5996</td>\n",
       "      <td>21</td>\n",
       "      <td>student</td>\n",
       "      <td>single</td>\n",
       "      <td>secondary</td>\n",
       "      <td>no</td>\n",
       "      <td>232</td>\n",
       "      <td>yes</td>\n",
       "      <td>no</td>\n",
       "      <td>unknown</td>\n",
       "      <td>21</td>\n",
       "      <td>may</td>\n",
       "      <td>110</td>\n",
       "      <td>2</td>\n",
       "      <td>unknown</td>\n",
       "      <td>no</td>\n",
       "    </tr>\n",
       "    <tr>\n",
       "      <th>4996</th>\n",
       "      <td>5997</td>\n",
       "      <td>31</td>\n",
       "      <td>management</td>\n",
       "      <td>single</td>\n",
       "      <td>tertiary</td>\n",
       "      <td>no</td>\n",
       "      <td>385</td>\n",
       "      <td>yes</td>\n",
       "      <td>no</td>\n",
       "      <td>unknown</td>\n",
       "      <td>21</td>\n",
       "      <td>may</td>\n",
       "      <td>304</td>\n",
       "      <td>1</td>\n",
       "      <td>unknown</td>\n",
       "      <td>no</td>\n",
       "    </tr>\n",
       "    <tr>\n",
       "      <th>4997</th>\n",
       "      <td>5998</td>\n",
       "      <td>34</td>\n",
       "      <td>blue-collar</td>\n",
       "      <td>married</td>\n",
       "      <td>secondary</td>\n",
       "      <td>no</td>\n",
       "      <td>5304</td>\n",
       "      <td>yes</td>\n",
       "      <td>no</td>\n",
       "      <td>unknown</td>\n",
       "      <td>21</td>\n",
       "      <td>may</td>\n",
       "      <td>51</td>\n",
       "      <td>2</td>\n",
       "      <td>unknown</td>\n",
       "      <td>no</td>\n",
       "    </tr>\n",
       "    <tr>\n",
       "      <th>4998</th>\n",
       "      <td>5999</td>\n",
       "      <td>35</td>\n",
       "      <td>management</td>\n",
       "      <td>single</td>\n",
       "      <td>tertiary</td>\n",
       "      <td>no</td>\n",
       "      <td>71</td>\n",
       "      <td>yes</td>\n",
       "      <td>no</td>\n",
       "      <td>unknown</td>\n",
       "      <td>21</td>\n",
       "      <td>may</td>\n",
       "      <td>836</td>\n",
       "      <td>12</td>\n",
       "      <td>unknown</td>\n",
       "      <td>no</td>\n",
       "    </tr>\n",
       "    <tr>\n",
       "      <th>4999</th>\n",
       "      <td>6000</td>\n",
       "      <td>32</td>\n",
       "      <td>technician</td>\n",
       "      <td>single</td>\n",
       "      <td>unknown</td>\n",
       "      <td>no</td>\n",
       "      <td>317</td>\n",
       "      <td>yes</td>\n",
       "      <td>no</td>\n",
       "      <td>unknown</td>\n",
       "      <td>21</td>\n",
       "      <td>may</td>\n",
       "      <td>394</td>\n",
       "      <td>2</td>\n",
       "      <td>unknown</td>\n",
       "      <td>no</td>\n",
       "    </tr>\n",
       "  </tbody>\n",
       "</table>\n",
       "</div>"
      ],
      "text/plain": [
       "        Id  age          job  marital  education default  Acc_balance housing  \\\n",
       "4995  5996   21      student   single  secondary      no          232     yes   \n",
       "4996  5997   31   management   single   tertiary      no          385     yes   \n",
       "4997  5998   34  blue-collar  married  secondary      no         5304     yes   \n",
       "4998  5999   35   management   single   tertiary      no           71     yes   \n",
       "4999  6000   32   technician   single    unknown      no          317     yes   \n",
       "\n",
       "     loan  contact  day month  duration  campaign poutcome deposit  \n",
       "4995   no  unknown   21   may       110         2  unknown      no  \n",
       "4996   no  unknown   21   may       304         1  unknown      no  \n",
       "4997   no  unknown   21   may        51         2  unknown      no  \n",
       "4998   no  unknown   21   may       836        12  unknown      no  \n",
       "4999   no  unknown   21   may       394         2  unknown      no  "
      ]
     },
     "execution_count": 9,
     "metadata": {},
     "output_type": "execute_result"
    }
   ],
   "source": [
    "#display last few rows of data\n",
    "df.tail()"
   ]
  },
  {
   "cell_type": "code",
   "execution_count": 10,
   "metadata": {
    "colab": {
     "base_uri": "https://localhost:8080/"
    },
    "id": "t8pZDU9FmU48",
    "outputId": "ca8b27c4-d9d2-410e-be4e-d4988444d1be"
   },
   "outputs": [
    {
     "data": {
      "text/plain": [
       "(5000, 16)"
      ]
     },
     "execution_count": 10,
     "metadata": {},
     "output_type": "execute_result"
    }
   ],
   "source": [
    "df.shape"
   ]
  },
  {
   "cell_type": "code",
   "execution_count": 11,
   "metadata": {
    "colab": {
     "base_uri": "https://localhost:8080/"
    },
    "id": "lp0yx2wrkMGj",
    "outputId": "677675f6-3950-4c32-e4c5-db3359857e9c"
   },
   "outputs": [
    {
     "data": {
      "text/plain": [
       "Index(['Id', 'age', 'job', 'marital', 'education', 'default', 'Acc_balance',\n",
       "       'housing', 'loan', 'contact', 'day', 'month', 'duration', 'campaign',\n",
       "       'poutcome', 'deposit'],\n",
       "      dtype='object')"
      ]
     },
     "execution_count": 11,
     "metadata": {},
     "output_type": "execute_result"
    }
   ],
   "source": [
    "df.columns"
   ]
  },
  {
   "cell_type": "code",
   "execution_count": 12,
   "metadata": {
    "colab": {
     "base_uri": "https://localhost:8080/"
    },
    "id": "7p2SzbAskQHd",
    "outputId": "0e4dcc27-270f-4dcb-c427-589c6127a4ea"
   },
   "outputs": [
    {
     "name": "stdout",
     "output_type": "stream",
     "text": [
      "<class 'pandas.core.frame.DataFrame'>\n",
      "Int64Index: 5000 entries, 0 to 4999\n",
      "Data columns (total 16 columns):\n",
      " #   Column       Non-Null Count  Dtype \n",
      "---  ------       --------------  ----- \n",
      " 0   Id           5000 non-null   int64 \n",
      " 1   age          5000 non-null   int64 \n",
      " 2   job          5000 non-null   object\n",
      " 3   marital      5000 non-null   object\n",
      " 4   education    5000 non-null   object\n",
      " 5   default      5000 non-null   object\n",
      " 6   Acc_balance  5000 non-null   int64 \n",
      " 7   housing      5000 non-null   object\n",
      " 8   loan         5000 non-null   object\n",
      " 9   contact      5000 non-null   object\n",
      " 10  day          5000 non-null   int64 \n",
      " 11  month        5000 non-null   object\n",
      " 12  duration     5000 non-null   int64 \n",
      " 13  campaign     5000 non-null   int64 \n",
      " 14  poutcome     5000 non-null   object\n",
      " 15  deposit      5000 non-null   object\n",
      "dtypes: int64(6), object(10)\n",
      "memory usage: 664.1+ KB\n"
     ]
    }
   ],
   "source": [
    "df.info()"
   ]
  },
  {
   "cell_type": "code",
   "execution_count": 13,
   "metadata": {
    "colab": {
     "base_uri": "https://localhost:8080/",
     "height": 300
    },
    "id": "YTpIzlr4kQEG",
    "outputId": "80718409-d258-4c93-998e-ff9ca9c09e44"
   },
   "outputs": [
    {
     "data": {
      "text/html": [
       "<div>\n",
       "<style scoped>\n",
       "    .dataframe tbody tr th:only-of-type {\n",
       "        vertical-align: middle;\n",
       "    }\n",
       "\n",
       "    .dataframe tbody tr th {\n",
       "        vertical-align: top;\n",
       "    }\n",
       "\n",
       "    .dataframe thead th {\n",
       "        text-align: right;\n",
       "    }\n",
       "</style>\n",
       "<table border=\"1\" class=\"dataframe\">\n",
       "  <thead>\n",
       "    <tr style=\"text-align: right;\">\n",
       "      <th></th>\n",
       "      <th>Id</th>\n",
       "      <th>age</th>\n",
       "      <th>Acc_balance</th>\n",
       "      <th>day</th>\n",
       "      <th>duration</th>\n",
       "      <th>campaign</th>\n",
       "    </tr>\n",
       "  </thead>\n",
       "  <tbody>\n",
       "    <tr>\n",
       "      <th>count</th>\n",
       "      <td>5000.000000</td>\n",
       "      <td>5000.000000</td>\n",
       "      <td>5000.00000</td>\n",
       "      <td>5000.00000</td>\n",
       "      <td>5000.000000</td>\n",
       "      <td>5000.000000</td>\n",
       "    </tr>\n",
       "    <tr>\n",
       "      <th>mean</th>\n",
       "      <td>3500.500000</td>\n",
       "      <td>40.413200</td>\n",
       "      <td>957.44980</td>\n",
       "      <td>12.36780</td>\n",
       "      <td>270.343000</td>\n",
       "      <td>2.375000</td>\n",
       "    </tr>\n",
       "    <tr>\n",
       "      <th>std</th>\n",
       "      <td>1443.520003</td>\n",
       "      <td>9.414913</td>\n",
       "      <td>2462.19643</td>\n",
       "      <td>5.00607</td>\n",
       "      <td>257.151494</td>\n",
       "      <td>2.739539</td>\n",
       "    </tr>\n",
       "    <tr>\n",
       "      <th>min</th>\n",
       "      <td>1001.000000</td>\n",
       "      <td>20.000000</td>\n",
       "      <td>-3313.00000</td>\n",
       "      <td>5.00000</td>\n",
       "      <td>2.000000</td>\n",
       "      <td>1.000000</td>\n",
       "    </tr>\n",
       "    <tr>\n",
       "      <th>25%</th>\n",
       "      <td>2250.750000</td>\n",
       "      <td>33.000000</td>\n",
       "      <td>56.00000</td>\n",
       "      <td>8.00000</td>\n",
       "      <td>122.000000</td>\n",
       "      <td>1.000000</td>\n",
       "    </tr>\n",
       "    <tr>\n",
       "      <th>50%</th>\n",
       "      <td>3500.500000</td>\n",
       "      <td>40.000000</td>\n",
       "      <td>304.00000</td>\n",
       "      <td>13.00000</td>\n",
       "      <td>198.000000</td>\n",
       "      <td>2.000000</td>\n",
       "    </tr>\n",
       "    <tr>\n",
       "      <th>75%</th>\n",
       "      <td>4750.250000</td>\n",
       "      <td>47.000000</td>\n",
       "      <td>894.50000</td>\n",
       "      <td>16.00000</td>\n",
       "      <td>325.000000</td>\n",
       "      <td>3.000000</td>\n",
       "    </tr>\n",
       "    <tr>\n",
       "      <th>max</th>\n",
       "      <td>6000.000000</td>\n",
       "      <td>61.000000</td>\n",
       "      <td>58544.00000</td>\n",
       "      <td>21.00000</td>\n",
       "      <td>3366.000000</td>\n",
       "      <td>63.000000</td>\n",
       "    </tr>\n",
       "  </tbody>\n",
       "</table>\n",
       "</div>"
      ],
      "text/plain": [
       "                Id          age  Acc_balance         day     duration  \\\n",
       "count  5000.000000  5000.000000   5000.00000  5000.00000  5000.000000   \n",
       "mean   3500.500000    40.413200    957.44980    12.36780   270.343000   \n",
       "std    1443.520003     9.414913   2462.19643     5.00607   257.151494   \n",
       "min    1001.000000    20.000000  -3313.00000     5.00000     2.000000   \n",
       "25%    2250.750000    33.000000     56.00000     8.00000   122.000000   \n",
       "50%    3500.500000    40.000000    304.00000    13.00000   198.000000   \n",
       "75%    4750.250000    47.000000    894.50000    16.00000   325.000000   \n",
       "max    6000.000000    61.000000  58544.00000    21.00000  3366.000000   \n",
       "\n",
       "          campaign  \n",
       "count  5000.000000  \n",
       "mean      2.375000  \n",
       "std       2.739539  \n",
       "min       1.000000  \n",
       "25%       1.000000  \n",
       "50%       2.000000  \n",
       "75%       3.000000  \n",
       "max      63.000000  "
      ]
     },
     "execution_count": 13,
     "metadata": {},
     "output_type": "execute_result"
    }
   ],
   "source": [
    "#numerical data summary\n",
    "df.describe()"
   ]
  },
  {
   "cell_type": "code",
   "execution_count": 14,
   "metadata": {
    "colab": {
     "base_uri": "https://localhost:8080/",
     "height": 300
    },
    "id": "OLhmyd9CxrAZ",
    "outputId": "f08d9bce-f39d-4815-b120-60f07e395299"
   },
   "outputs": [
    {
     "data": {
      "text/html": [
       "<div>\n",
       "<style scoped>\n",
       "    .dataframe tbody tr th:only-of-type {\n",
       "        vertical-align: middle;\n",
       "    }\n",
       "\n",
       "    .dataframe tbody tr th {\n",
       "        vertical-align: top;\n",
       "    }\n",
       "\n",
       "    .dataframe thead th {\n",
       "        text-align: right;\n",
       "    }\n",
       "</style>\n",
       "<table border=\"1\" class=\"dataframe\">\n",
       "  <thead>\n",
       "    <tr style=\"text-align: right;\">\n",
       "      <th></th>\n",
       "      <th>Id</th>\n",
       "      <th>age</th>\n",
       "      <th>Acc_balance</th>\n",
       "    </tr>\n",
       "  </thead>\n",
       "  <tbody>\n",
       "    <tr>\n",
       "      <th>count</th>\n",
       "      <td>5000.000000</td>\n",
       "      <td>5000.000000</td>\n",
       "      <td>5000.00000</td>\n",
       "    </tr>\n",
       "    <tr>\n",
       "      <th>mean</th>\n",
       "      <td>3500.500000</td>\n",
       "      <td>40.413200</td>\n",
       "      <td>957.44980</td>\n",
       "    </tr>\n",
       "    <tr>\n",
       "      <th>std</th>\n",
       "      <td>1443.520003</td>\n",
       "      <td>9.414913</td>\n",
       "      <td>2462.19643</td>\n",
       "    </tr>\n",
       "    <tr>\n",
       "      <th>min</th>\n",
       "      <td>1001.000000</td>\n",
       "      <td>20.000000</td>\n",
       "      <td>-3313.00000</td>\n",
       "    </tr>\n",
       "    <tr>\n",
       "      <th>25%</th>\n",
       "      <td>2250.750000</td>\n",
       "      <td>33.000000</td>\n",
       "      <td>56.00000</td>\n",
       "    </tr>\n",
       "    <tr>\n",
       "      <th>50%</th>\n",
       "      <td>3500.500000</td>\n",
       "      <td>40.000000</td>\n",
       "      <td>304.00000</td>\n",
       "    </tr>\n",
       "    <tr>\n",
       "      <th>75%</th>\n",
       "      <td>4750.250000</td>\n",
       "      <td>47.000000</td>\n",
       "      <td>894.50000</td>\n",
       "    </tr>\n",
       "    <tr>\n",
       "      <th>max</th>\n",
       "      <td>6000.000000</td>\n",
       "      <td>61.000000</td>\n",
       "      <td>58544.00000</td>\n",
       "    </tr>\n",
       "  </tbody>\n",
       "</table>\n",
       "</div>"
      ],
      "text/plain": [
       "                Id          age  Acc_balance\n",
       "count  5000.000000  5000.000000   5000.00000\n",
       "mean   3500.500000    40.413200    957.44980\n",
       "std    1443.520003     9.414913   2462.19643\n",
       "min    1001.000000    20.000000  -3313.00000\n",
       "25%    2250.750000    33.000000     56.00000\n",
       "50%    3500.500000    40.000000    304.00000\n",
       "75%    4750.250000    47.000000    894.50000\n",
       "max    6000.000000    61.000000  58544.00000"
      ]
     },
     "execution_count": 14,
     "metadata": {},
     "output_type": "execute_result"
    }
   ],
   "source": [
    "df[['Id', 'age', 'Acc_balance']].describe()"
   ]
  },
  {
   "cell_type": "code",
   "execution_count": 15,
   "metadata": {
    "colab": {
     "base_uri": "https://localhost:8080/",
     "height": 424
    },
    "id": "l3yVEEC9kQB2",
    "outputId": "059cfc68-19d1-431d-faab-a627adf54c3b"
   },
   "outputs": [
    {
     "data": {
      "text/html": [
       "<div>\n",
       "<style scoped>\n",
       "    .dataframe tbody tr th:only-of-type {\n",
       "        vertical-align: middle;\n",
       "    }\n",
       "\n",
       "    .dataframe tbody tr th {\n",
       "        vertical-align: top;\n",
       "    }\n",
       "\n",
       "    .dataframe thead th {\n",
       "        text-align: right;\n",
       "    }\n",
       "</style>\n",
       "<table border=\"1\" class=\"dataframe\">\n",
       "  <thead>\n",
       "    <tr style=\"text-align: right;\">\n",
       "      <th></th>\n",
       "      <th>Id</th>\n",
       "      <th>age</th>\n",
       "      <th>job</th>\n",
       "      <th>marital</th>\n",
       "      <th>education</th>\n",
       "      <th>default</th>\n",
       "      <th>Acc_balance</th>\n",
       "      <th>housing</th>\n",
       "      <th>loan</th>\n",
       "      <th>contact</th>\n",
       "      <th>day</th>\n",
       "      <th>month</th>\n",
       "      <th>duration</th>\n",
       "      <th>campaign</th>\n",
       "      <th>poutcome</th>\n",
       "      <th>deposit</th>\n",
       "    </tr>\n",
       "  </thead>\n",
       "  <tbody>\n",
       "    <tr>\n",
       "      <th>0</th>\n",
       "      <td>1001</td>\n",
       "      <td>45</td>\n",
       "      <td>management</td>\n",
       "      <td>married</td>\n",
       "      <td>tertiary</td>\n",
       "      <td>no</td>\n",
       "      <td>2143</td>\n",
       "      <td>yes</td>\n",
       "      <td>no</td>\n",
       "      <td>unknown</td>\n",
       "      <td>5</td>\n",
       "      <td>may</td>\n",
       "      <td>261</td>\n",
       "      <td>1</td>\n",
       "      <td>unknown</td>\n",
       "      <td>no</td>\n",
       "    </tr>\n",
       "    <tr>\n",
       "      <th>1</th>\n",
       "      <td>1002</td>\n",
       "      <td>44</td>\n",
       "      <td>technician</td>\n",
       "      <td>single</td>\n",
       "      <td>secondary</td>\n",
       "      <td>no</td>\n",
       "      <td>29</td>\n",
       "      <td>yes</td>\n",
       "      <td>no</td>\n",
       "      <td>unknown</td>\n",
       "      <td>5</td>\n",
       "      <td>may</td>\n",
       "      <td>151</td>\n",
       "      <td>1</td>\n",
       "      <td>unknown</td>\n",
       "      <td>no</td>\n",
       "    </tr>\n",
       "    <tr>\n",
       "      <th>2</th>\n",
       "      <td>1003</td>\n",
       "      <td>33</td>\n",
       "      <td>entrepreneur</td>\n",
       "      <td>married</td>\n",
       "      <td>secondary</td>\n",
       "      <td>no</td>\n",
       "      <td>2</td>\n",
       "      <td>yes</td>\n",
       "      <td>yes</td>\n",
       "      <td>unknown</td>\n",
       "      <td>5</td>\n",
       "      <td>may</td>\n",
       "      <td>76</td>\n",
       "      <td>1</td>\n",
       "      <td>unknown</td>\n",
       "      <td>no</td>\n",
       "    </tr>\n",
       "    <tr>\n",
       "      <th>3</th>\n",
       "      <td>1004</td>\n",
       "      <td>47</td>\n",
       "      <td>blue-collar</td>\n",
       "      <td>married</td>\n",
       "      <td>unknown</td>\n",
       "      <td>no</td>\n",
       "      <td>1506</td>\n",
       "      <td>yes</td>\n",
       "      <td>no</td>\n",
       "      <td>unknown</td>\n",
       "      <td>5</td>\n",
       "      <td>may</td>\n",
       "      <td>92</td>\n",
       "      <td>1</td>\n",
       "      <td>unknown</td>\n",
       "      <td>no</td>\n",
       "    </tr>\n",
       "    <tr>\n",
       "      <th>4</th>\n",
       "      <td>1005</td>\n",
       "      <td>33</td>\n",
       "      <td>unknown</td>\n",
       "      <td>single</td>\n",
       "      <td>unknown</td>\n",
       "      <td>no</td>\n",
       "      <td>1</td>\n",
       "      <td>no</td>\n",
       "      <td>no</td>\n",
       "      <td>unknown</td>\n",
       "      <td>5</td>\n",
       "      <td>may</td>\n",
       "      <td>198</td>\n",
       "      <td>1</td>\n",
       "      <td>unknown</td>\n",
       "      <td>no</td>\n",
       "    </tr>\n",
       "    <tr>\n",
       "      <th>...</th>\n",
       "      <td>...</td>\n",
       "      <td>...</td>\n",
       "      <td>...</td>\n",
       "      <td>...</td>\n",
       "      <td>...</td>\n",
       "      <td>...</td>\n",
       "      <td>...</td>\n",
       "      <td>...</td>\n",
       "      <td>...</td>\n",
       "      <td>...</td>\n",
       "      <td>...</td>\n",
       "      <td>...</td>\n",
       "      <td>...</td>\n",
       "      <td>...</td>\n",
       "      <td>...</td>\n",
       "      <td>...</td>\n",
       "    </tr>\n",
       "    <tr>\n",
       "      <th>4995</th>\n",
       "      <td>5996</td>\n",
       "      <td>21</td>\n",
       "      <td>student</td>\n",
       "      <td>single</td>\n",
       "      <td>secondary</td>\n",
       "      <td>no</td>\n",
       "      <td>232</td>\n",
       "      <td>yes</td>\n",
       "      <td>no</td>\n",
       "      <td>unknown</td>\n",
       "      <td>21</td>\n",
       "      <td>may</td>\n",
       "      <td>110</td>\n",
       "      <td>2</td>\n",
       "      <td>unknown</td>\n",
       "      <td>no</td>\n",
       "    </tr>\n",
       "    <tr>\n",
       "      <th>4996</th>\n",
       "      <td>5997</td>\n",
       "      <td>31</td>\n",
       "      <td>management</td>\n",
       "      <td>single</td>\n",
       "      <td>tertiary</td>\n",
       "      <td>no</td>\n",
       "      <td>385</td>\n",
       "      <td>yes</td>\n",
       "      <td>no</td>\n",
       "      <td>unknown</td>\n",
       "      <td>21</td>\n",
       "      <td>may</td>\n",
       "      <td>304</td>\n",
       "      <td>1</td>\n",
       "      <td>unknown</td>\n",
       "      <td>no</td>\n",
       "    </tr>\n",
       "    <tr>\n",
       "      <th>4997</th>\n",
       "      <td>5998</td>\n",
       "      <td>34</td>\n",
       "      <td>blue-collar</td>\n",
       "      <td>married</td>\n",
       "      <td>secondary</td>\n",
       "      <td>no</td>\n",
       "      <td>5304</td>\n",
       "      <td>yes</td>\n",
       "      <td>no</td>\n",
       "      <td>unknown</td>\n",
       "      <td>21</td>\n",
       "      <td>may</td>\n",
       "      <td>51</td>\n",
       "      <td>2</td>\n",
       "      <td>unknown</td>\n",
       "      <td>no</td>\n",
       "    </tr>\n",
       "    <tr>\n",
       "      <th>4998</th>\n",
       "      <td>5999</td>\n",
       "      <td>35</td>\n",
       "      <td>management</td>\n",
       "      <td>single</td>\n",
       "      <td>tertiary</td>\n",
       "      <td>no</td>\n",
       "      <td>71</td>\n",
       "      <td>yes</td>\n",
       "      <td>no</td>\n",
       "      <td>unknown</td>\n",
       "      <td>21</td>\n",
       "      <td>may</td>\n",
       "      <td>836</td>\n",
       "      <td>12</td>\n",
       "      <td>unknown</td>\n",
       "      <td>no</td>\n",
       "    </tr>\n",
       "    <tr>\n",
       "      <th>4999</th>\n",
       "      <td>6000</td>\n",
       "      <td>32</td>\n",
       "      <td>technician</td>\n",
       "      <td>single</td>\n",
       "      <td>unknown</td>\n",
       "      <td>no</td>\n",
       "      <td>317</td>\n",
       "      <td>yes</td>\n",
       "      <td>no</td>\n",
       "      <td>unknown</td>\n",
       "      <td>21</td>\n",
       "      <td>may</td>\n",
       "      <td>394</td>\n",
       "      <td>2</td>\n",
       "      <td>unknown</td>\n",
       "      <td>no</td>\n",
       "    </tr>\n",
       "  </tbody>\n",
       "</table>\n",
       "<p>5000 rows × 16 columns</p>\n",
       "</div>"
      ],
      "text/plain": [
       "        Id  age           job  marital  education default  Acc_balance  \\\n",
       "0     1001   45    management  married   tertiary      no         2143   \n",
       "1     1002   44    technician   single  secondary      no           29   \n",
       "2     1003   33  entrepreneur  married  secondary      no            2   \n",
       "3     1004   47   blue-collar  married    unknown      no         1506   \n",
       "4     1005   33       unknown   single    unknown      no            1   \n",
       "...    ...  ...           ...      ...        ...     ...          ...   \n",
       "4995  5996   21       student   single  secondary      no          232   \n",
       "4996  5997   31    management   single   tertiary      no          385   \n",
       "4997  5998   34   blue-collar  married  secondary      no         5304   \n",
       "4998  5999   35    management   single   tertiary      no           71   \n",
       "4999  6000   32    technician   single    unknown      no          317   \n",
       "\n",
       "     housing loan  contact  day month  duration  campaign poutcome deposit  \n",
       "0        yes   no  unknown    5   may       261         1  unknown      no  \n",
       "1        yes   no  unknown    5   may       151         1  unknown      no  \n",
       "2        yes  yes  unknown    5   may        76         1  unknown      no  \n",
       "3        yes   no  unknown    5   may        92         1  unknown      no  \n",
       "4         no   no  unknown    5   may       198         1  unknown      no  \n",
       "...      ...  ...      ...  ...   ...       ...       ...      ...     ...  \n",
       "4995     yes   no  unknown   21   may       110         2  unknown      no  \n",
       "4996     yes   no  unknown   21   may       304         1  unknown      no  \n",
       "4997     yes   no  unknown   21   may        51         2  unknown      no  \n",
       "4998     yes   no  unknown   21   may       836        12  unknown      no  \n",
       "4999     yes   no  unknown   21   may       394         2  unknown      no  \n",
       "\n",
       "[5000 rows x 16 columns]"
      ]
     },
     "execution_count": 15,
     "metadata": {},
     "output_type": "execute_result"
    }
   ],
   "source": [
    "df.dropna() "
   ]
  },
  {
   "cell_type": "code",
   "execution_count": 16,
   "metadata": {
    "id": "e9Or5K0K0Cz6"
   },
   "outputs": [],
   "source": [
    "#Drop column \"poutcome\" which is useless\n",
    "df = df.drop('poutcome', axis=1)"
   ]
  },
  {
   "cell_type": "markdown",
   "metadata": {
    "id": "8PopfpD0TYS_"
   },
   "source": [
    "### 2.1 Checking Missing Values"
   ]
  },
  {
   "cell_type": "code",
   "execution_count": 17,
   "metadata": {
    "colab": {
     "base_uri": "https://localhost:8080/"
    },
    "id": "RwWgvbvzTY4t",
    "outputId": "235543d6-eb9a-4a95-b4fc-26a72e885abd"
   },
   "outputs": [
    {
     "data": {
      "text/plain": [
       "Id             0\n",
       "age            0\n",
       "job            0\n",
       "marital        0\n",
       "education      0\n",
       "default        0\n",
       "Acc_balance    0\n",
       "housing        0\n",
       "loan           0\n",
       "contact        0\n",
       "day            0\n",
       "month          0\n",
       "duration       0\n",
       "campaign       0\n",
       "deposit        0\n",
       "dtype: int64"
      ]
     },
     "execution_count": 17,
     "metadata": {},
     "output_type": "execute_result"
    }
   ],
   "source": [
    "# Check if missing values exist or not\n",
    "df.isnull().sum()"
   ]
  },
  {
   "cell_type": "code",
   "execution_count": 18,
   "metadata": {
    "colab": {
     "base_uri": "https://localhost:8080/"
    },
    "id": "Qtjn8G-mJSPs",
    "outputId": "7262d146-e788-4cd6-ef1e-766f05dc4343"
   },
   "outputs": [
    {
     "data": {
      "text/plain": [
       "0.0"
      ]
     },
     "execution_count": 18,
     "metadata": {},
     "output_type": "execute_result"
    }
   ],
   "source": [
    "#find percentage of missing values for each column\n",
    "\n",
    "missing_values = df.isnull().mean()*100\n",
    "missing_values.sum()"
   ]
  },
  {
   "cell_type": "markdown",
   "metadata": {
    "id": "k2_OgwNeIdEm"
   },
   "source": [
    "### 2.2 Data Visualization - PowerBI Report"
   ]
  },
  {
   "cell_type": "markdown",
   "metadata": {
    "id": "pPl6CtdXQV23"
   },
   "source": [
    "Is the process of graphical representation to visual data such as plots, charts."
   ]
  },
  {
   "cell_type": "code",
   "execution_count": 1,
   "metadata": {},
   "outputs": [],
   "source": [
    "#visualization by Power Bi\n",
    "from powerbiclient import Report,models"
   ]
  },
  {
   "cell_type": "code",
   "execution_count": 2,
   "metadata": {},
   "outputs": [
    {
     "name": "stdout",
     "output_type": "stream",
     "text": [
      "Performing interactive authentication. Please follow the instructions on the terminal.\n",
      " To sign in, use a web browser to open the page https://microsoft.com/devicelogin and enter the code IX2FPVXFV to authenticate.\n",
      "You have logged in.\n",
      "Interactive authentication successfully completed.\n"
     ]
    }
   ],
   "source": [
    "# Import the DeviceCodeLoginAuthentication class to authenticate against Power BI\n",
    "from powerbiclient.authentication import DeviceCodeLoginAuthentication\n",
    "\n",
    "# Initiate device authentication\n",
    "device_auth = DeviceCodeLoginAuthentication()"
   ]
  },
  {
   "cell_type": "code",
   "execution_count": 7,
   "metadata": {},
   "outputs": [],
   "source": [
    "grop_id=\"4f389ccc-3ec9-4b85-8eef-be39063e6517\"\n",
    "rept_id=\"4930b87c-01d3-44ca-8a99-1253a0e51f04\""
   ]
  },
  {
   "cell_type": "code",
   "execution_count": 8,
   "metadata": {},
   "outputs": [],
   "source": [
    "report=Report(group_id=grop_id,report_id=rept_id ,auth=device_auth)"
   ]
  },
  {
   "cell_type": "code",
   "execution_count": 9,
   "metadata": {},
   "outputs": [
    {
     "data": {
      "application/vnd.jupyter.widget-view+json": {
       "model_id": "c8beaa94dcfa42ef8bfa8d19210f347c",
       "version_major": 2,
       "version_minor": 0
      },
      "text/plain": [
       "Report()"
      ]
     },
     "metadata": {},
     "output_type": "display_data"
    }
   ],
   "source": [
    "report"
   ]
  },
  {
   "cell_type": "code",
   "execution_count": 19,
   "metadata": {
    "colab": {
     "base_uri": "https://localhost:8080/",
     "height": 298
    },
    "id": "Lazttm1hQ7xP",
    "outputId": "b94c7f41-49c4-4b27-d57f-9ae902923af2",
    "scrolled": true
   },
   "outputs": [
    {
     "data": {
      "text/plain": [
       "<function matplotlib.pyplot.show(close=None, block=None)>"
      ]
     },
     "execution_count": 19,
     "metadata": {},
     "output_type": "execute_result"
    },
    {
     "data": {
      "image/png": "[encoded data removed]",
      "text/plain": [
       "<Figure size 720x720 with 6 Axes>"
      ]
     },
     "metadata": {
      "needs_background": "light"
     },
     "output_type": "display_data"
    }
   ],
   "source": [
    "#plot histogram on numerial data\n",
    "import matplotlib.pyplot as plt\n",
    "df.hist(figsize =(10, 10))\n",
    "plt.show"
   ]
  },
  {
   "cell_type": "markdown",
   "metadata": {
    "id": "wABbHHqwNi9t"
   },
   "source": [
    "### 2.3 Visualizing Catagorical Variable"
   ]
  },
  {
   "cell_type": "code",
   "execution_count": 20,
   "metadata": {
    "id": "nBw69qKfNiaB"
   },
   "outputs": [],
   "source": [
    "def bar_plot(variable):\n",
    "    var =df[variable]\n",
    "    varValue = var.value_counts()\n",
    "    plt.figure(figsize=(5,3))\n",
    "    plt.bar(varValue.index, varValue,color=['#00008b','#00e5ee','#cd1076', '#008080','#cd5555','red','blue',])\n",
    "    plt.xticks(varValue.index, varValue.index.values)\n",
    "    plt.ylabel(\"Frequency\")\n",
    "    plt.title(variable)    \n",
    "    plt.show()"
   ]
  },
  {
   "cell_type": "code",
   "execution_count": 21,
   "metadata": {
    "colab": {
     "base_uri": "https://localhost:8080/",
     "height": 1000
    },
    "id": "oz4dy4ErQC9W",
    "outputId": "158cb8b6-72ea-4bb6-e587-03ca3382d09b"
   },
   "outputs": [
    {
     "data": {
      "image/png": "[encoded data removed]",
      "text/plain": [
       "<Figure size 360x216 with 1 Axes>"
      ]
     },
     "metadata": {
      "needs_background": "light"
     },
     "output_type": "display_data"
    },
    {
     "data": {
      "image/png": "[encoded data removed]",
      "text/plain": [
       "<Figure size 360x216 with 1 Axes>"
      ]
     },
     "metadata": {
      "needs_background": "light"
     },
     "output_type": "display_data"
    },
    {
     "data": {
      "image/png": "[encoded data removed]",
      "text/plain": [
       "<Figure size 360x216 with 1 Axes>"
      ]
     },
     "metadata": {
      "needs_background": "light"
     },
     "output_type": "display_data"
    },
    {
     "data": {
      "image/png": "[encoded data removed]",
      "text/plain": [
       "<Figure size 360x216 with 1 Axes>"
      ]
     },
     "metadata": {
      "needs_background": "light"
     },
     "output_type": "display_data"
    },
    {
     "data": {
      "image/png": "[encoded data removed]",
      "text/plain": [
       "<Figure size 360x216 with 1 Axes>"
      ]
     },
     "metadata": {
      "needs_background": "light"
     },
     "output_type": "display_data"
    },
    {
     "data": {
      "image/png": "[encoded data removed]",
      "text/plain": [
       "<Figure size 360x216 with 1 Axes>"
      ]
     },
     "metadata": {
      "needs_background": "light"
     },
     "output_type": "display_data"
    },
    {
     "data": {
      "image/png": "[encoded data removed]",
      "text/plain": [
       "<Figure size 360x216 with 1 Axes>"
      ]
     },
     "metadata": {
      "needs_background": "light"
     },
     "output_type": "display_data"
    },
    {
     "data": {
      "image/png": "[encoded data removed]",
      "text/plain": [
       "<Figure size 360x216 with 1 Axes>"
      ]
     },
     "metadata": {
      "needs_background": "light"
     },
     "output_type": "display_data"
    }
   ],
   "source": [
    "categoryc = [\"job\",\"marital\",\"education\", \"housing\", \"loan\",\"contact\",\"month\",\"deposit\"]\n",
    "for c in categoryc:\n",
    "    bar_plot(c)"
   ]
  },
  {
   "cell_type": "markdown",
   "metadata": {
    "id": "yEFLas1HRGQl"
   },
   "source": [
    "### 2.4 Visualizing Numerical Value"
   ]
  },
  {
   "cell_type": "code",
   "execution_count": 22,
   "metadata": {
    "colab": {
     "base_uri": "https://localhost:8080/",
     "height": 351
    },
    "id": "wcAFK2a-gANn",
    "outputId": "e572359f-63a8-4997-bf0a-8ede651c181b"
   },
   "outputs": [
    {
     "data": {
      "text/plain": [
       "<AxesSubplot:xlabel='age', ylabel='Density'>"
      ]
     },
     "execution_count": 22,
     "metadata": {},
     "output_type": "execute_result"
    },
    {
     "data": {
      "image/png": "[encoded data removed]",
      "text/plain": [
       "<Figure size 432x288 with 1 Axes>"
      ]
     },
     "metadata": {
      "needs_background": "light"
     },
     "output_type": "display_data"
    }
   ],
   "source": [
    "sns.distplot(df['age'],kde=True,color='Darkblue')"
   ]
  },
  {
   "cell_type": "code",
   "execution_count": 23,
   "metadata": {
    "id": "7-YyyNFTRKrx"
   },
   "outputs": [],
   "source": [
    "def plot_hist(variable):\n",
    "    plt.figure(figsize=(9,6))\n",
    "    plt.hist(df[variable], bins=40,color='#cd1076')\n",
    "    plt.xlabel(variable)\n",
    "    plt.ylabel(\"frequency\")\n",
    "    plt.title(\"{} distrubition with hist\".format(variable))\n",
    "    plt.show()"
   ]
  },
  {
   "cell_type": "code",
   "execution_count": 24,
   "metadata": {
    "colab": {
     "base_uri": "https://localhost:8080/",
     "height": 1000
    },
    "id": "LEscN-XVRMr4",
    "outputId": "9b8bdd67-ab8e-4c17-c990-4f9b942c3fdb"
   },
   "outputs": [
    {
     "data": {
      "image/png": "[encoded data removed]",
      "text/plain": [
       "<Figure size 648x432 with 1 Axes>"
      ]
     },
     "metadata": {
      "needs_background": "light"
     },
     "output_type": "display_data"
    },
    {
     "data": {
      "image/png": "[encoded data removed]",
      "text/plain": [
       "<Figure size 648x432 with 1 Axes>"
      ]
     },
     "metadata": {
      "needs_background": "light"
     },
     "output_type": "display_data"
    },
    {
     "data": {
      "image/png": "[encoded data removed]",
      "text/plain": [
       "<Figure size 648x432 with 1 Axes>"
      ]
     },
     "metadata": {
      "needs_background": "light"
     },
     "output_type": "display_data"
    }
   ],
   "source": [
    "numericVar = [\"age\",\"campaign\",\"duration\"]\n",
    "for n in numericVar:\n",
    "    plot_hist(n)"
   ]
  },
  {
   "cell_type": "markdown",
   "metadata": {
    "id": "Kp6u8BQLyKOi"
   },
   "source": [
    "## 3. Analysis of the response column"
   ]
  },
  {
   "cell_type": "code",
   "execution_count": 25,
   "metadata": {
    "colab": {
     "base_uri": "https://localhost:8080/",
     "height": 306
    },
    "id": "zVmj32F2yD2l",
    "outputId": "78c85b7a-e3e7-4142-857e-d31fdd15ff26"
   },
   "outputs": [
    {
     "data": {
      "text/plain": [
       "<AxesSubplot:title={'center':'Deposit value counts'}>"
      ]
     },
     "execution_count": 25,
     "metadata": {},
     "output_type": "execute_result"
    },
    {
     "data": {
      "image/png": "[encoded data removed]",
      "text/plain": [
       "<Figure size 432x288 with 1 Axes>"
      ]
     },
     "metadata": {
      "needs_background": "light"
     },
     "output_type": "display_data"
    }
   ],
   "source": [
    "value_counts = df['deposit'].value_counts()\n",
    "value_counts.plot.bar(title = 'Deposit value counts')"
   ]
  },
  {
   "cell_type": "code",
   "execution_count": 26,
   "metadata": {
    "colab": {
     "base_uri": "https://localhost:8080/",
     "height": 359
    },
    "id": "oA6J9855yVl0",
    "outputId": "56369b03-f3e6-4a7a-e2a1-a1857e9e3eec"
   },
   "outputs": [
    {
     "data": {
      "text/plain": [
       "<AxesSubplot:title={'center':'Job and deposit'}>"
      ]
     },
     "execution_count": 26,
     "metadata": {},
     "output_type": "execute_result"
    },
    {
     "data": {
      "image/png": "[encoded data removed]",
      "text/plain": [
       "<Figure size 432x288 with 1 Axes>"
      ]
     },
     "metadata": {
      "needs_background": "light"
     },
     "output_type": "display_data"
    }
   ],
   "source": [
    "#job and deposit\n",
    "j_df = pd.DataFrame()\n",
    "\n",
    "j_df['yes'] = df[df['deposit'] == 'yes']['job'].value_counts()\n",
    "j_df['no'] = df[df['deposit'] == 'no']['job'].value_counts()\n",
    "\n",
    "j_df.plot.bar(title = 'Job and deposit')"
   ]
  },
  {
   "cell_type": "code",
   "execution_count": 27,
   "metadata": {
    "colab": {
     "base_uri": "https://localhost:8080/",
     "height": 340
    },
    "id": "niDThQUQ2oFG",
    "outputId": "47fe5acf-5ffc-482d-c452-1878e226602d"
   },
   "outputs": [
    {
     "data": {
      "text/plain": [
       "<AxesSubplot:title={'center':'Education and deposit'}>"
      ]
     },
     "execution_count": 27,
     "metadata": {},
     "output_type": "execute_result"
    },
    {
     "data": {
      "image/png": "[encoded data removed]",
      "text/plain": [
       "<Figure size 432x288 with 1 Axes>"
      ]
     },
     "metadata": {
      "needs_background": "light"
     },
     "output_type": "display_data"
    }
   ],
   "source": [
    "#education and deposit\n",
    "j_df = pd.DataFrame()\n",
    "\n",
    "j_df['yes'] = df[df['deposit'] == 'yes']['education'].value_counts()\n",
    "j_df['no'] = df[df['deposit'] == 'no']['education'].value_counts()\n",
    "\n",
    "j_df.plot.bar(title = 'Education and deposit')"
   ]
  },
  {
   "cell_type": "code",
   "execution_count": 28,
   "metadata": {
    "colab": {
     "base_uri": "https://localhost:8080/",
     "height": 279
    },
    "id": "6ZqdbfgKJMUV",
    "outputId": "9800721f-3b61-4283-ab6e-ee85652459bd"
   },
   "outputs": [
    {
     "data": {
      "image/png": "[encoded data removed]",
      "text/plain": [
       "<Figure size 432x288 with 1 Axes>"
      ]
     },
     "metadata": {
      "needs_background": "light"
     },
     "output_type": "display_data"
    }
   ],
   "source": [
    "# Count of the Target label\n",
    "\n",
    "sns.countplot(x='deposit',data=df)\n",
    "plt.show()"
   ]
  },
  {
   "cell_type": "markdown",
   "metadata": {},
   "source": [
    "***\n",
    "## 4. Data Preprocessing\n",
    "***"
   ]
  },
  {
   "cell_type": "code",
   "execution_count": 29,
   "metadata": {},
   "outputs": [
    {
     "data": {
      "text/html": [
       "<div>\n",
       "<style scoped>\n",
       "    .dataframe tbody tr th:only-of-type {\n",
       "        vertical-align: middle;\n",
       "    }\n",
       "\n",
       "    .dataframe tbody tr th {\n",
       "        vertical-align: top;\n",
       "    }\n",
       "\n",
       "    .dataframe thead th {\n",
       "        text-align: right;\n",
       "    }\n",
       "</style>\n",
       "<table border=\"1\" class=\"dataframe\">\n",
       "  <thead>\n",
       "    <tr style=\"text-align: right;\">\n",
       "      <th></th>\n",
       "      <th>Id</th>\n",
       "      <th>age</th>\n",
       "      <th>Acc_balance</th>\n",
       "      <th>day</th>\n",
       "      <th>duration</th>\n",
       "      <th>campaign</th>\n",
       "    </tr>\n",
       "  </thead>\n",
       "  <tbody>\n",
       "    <tr>\n",
       "      <th>Id</th>\n",
       "      <td>1.000000</td>\n",
       "      <td>-0.100668</td>\n",
       "      <td>0.131459</td>\n",
       "      <td>0.989277</td>\n",
       "      <td>0.018278</td>\n",
       "      <td>0.158740</td>\n",
       "    </tr>\n",
       "    <tr>\n",
       "      <th>age</th>\n",
       "      <td>-0.100668</td>\n",
       "      <td>1.000000</td>\n",
       "      <td>0.084815</td>\n",
       "      <td>-0.098424</td>\n",
       "      <td>-0.019894</td>\n",
       "      <td>0.038439</td>\n",
       "    </tr>\n",
       "    <tr>\n",
       "      <th>Acc_balance</th>\n",
       "      <td>0.131459</td>\n",
       "      <td>0.084815</td>\n",
       "      <td>1.000000</td>\n",
       "      <td>0.137192</td>\n",
       "      <td>0.028741</td>\n",
       "      <td>-0.014693</td>\n",
       "    </tr>\n",
       "    <tr>\n",
       "      <th>day</th>\n",
       "      <td>0.989277</td>\n",
       "      <td>-0.098424</td>\n",
       "      <td>0.137192</td>\n",
       "      <td>1.000000</td>\n",
       "      <td>0.013901</td>\n",
       "      <td>0.138356</td>\n",
       "    </tr>\n",
       "    <tr>\n",
       "      <th>duration</th>\n",
       "      <td>0.018278</td>\n",
       "      <td>-0.019894</td>\n",
       "      <td>0.028741</td>\n",
       "      <td>0.013901</td>\n",
       "      <td>1.000000</td>\n",
       "      <td>-0.037301</td>\n",
       "    </tr>\n",
       "    <tr>\n",
       "      <th>campaign</th>\n",
       "      <td>0.158740</td>\n",
       "      <td>0.038439</td>\n",
       "      <td>-0.014693</td>\n",
       "      <td>0.138356</td>\n",
       "      <td>-0.037301</td>\n",
       "      <td>1.000000</td>\n",
       "    </tr>\n",
       "  </tbody>\n",
       "</table>\n",
       "</div>"
      ],
      "text/plain": [
       "                   Id       age  Acc_balance       day  duration  campaign\n",
       "Id           1.000000 -0.100668     0.131459  0.989277  0.018278  0.158740\n",
       "age         -0.100668  1.000000     0.084815 -0.098424 -0.019894  0.038439\n",
       "Acc_balance  0.131459  0.084815     1.000000  0.137192  0.028741 -0.014693\n",
       "day          0.989277 -0.098424     0.137192  1.000000  0.013901  0.138356\n",
       "duration     0.018278 -0.019894     0.028741  0.013901  1.000000 -0.037301\n",
       "campaign     0.158740  0.038439    -0.014693  0.138356 -0.037301  1.000000"
      ]
     },
     "execution_count": 29,
     "metadata": {},
     "output_type": "execute_result"
    }
   ],
   "source": [
    "#correlations between numerical features\n",
    "df.corr()"
   ]
  },
  {
   "cell_type": "markdown",
   "metadata": {},
   "source": [
    "### 4.1 Plot heatmap for check correlation of data"
   ]
  },
  {
   "cell_type": "code",
   "execution_count": 30,
   "metadata": {},
   "outputs": [
    {
     "data": {
      "text/plain": [
       "Text(0.5, 1.0, 'Correlation Heatmap')"
      ]
     },
     "execution_count": 30,
     "metadata": {},
     "output_type": "execute_result"
    },
    {
     "data": {
      "image/png": "[encoded data removed]",
      "text/plain": [
       "<Figure size 576x360 with 2 Axes>"
      ]
     },
     "metadata": {
      "needs_background": "light"
     },
     "output_type": "display_data"
    }
   ],
   "source": [
    "#see correlation between variables through a correlation heatmap\n",
    "plt.figure(figsize=(8,5))\n",
    "sns.heatmap(df.corr(), annot=True)\n",
    "plt.title('Correlation Heatmap', fontsize=20)"
   ]
  },
  {
   "cell_type": "markdown",
   "metadata": {
    "id": "Xu-rRZ8wToV2"
   },
   "source": [
    "***\n",
    "## 5. Outlier Detection\n",
    "***"
   ]
  },
  {
   "cell_type": "code",
   "execution_count": 31,
   "metadata": {
    "colab": {
     "base_uri": "https://localhost:8080/",
     "height": 351
    },
    "id": "p8gc1NNCov4a",
    "outputId": "f12889cf-7edd-4a4a-81ec-2af698e3ddec"
   },
   "outputs": [
    {
     "data": {
      "text/plain": [
       "<AxesSubplot:xlabel='age'>"
      ]
     },
     "execution_count": 31,
     "metadata": {},
     "output_type": "execute_result"
    },
    {
     "data": {
      "image/png": "[encoded data removed]",
      "text/plain": [
       "<Figure size 432x288 with 1 Axes>"
      ]
     },
     "metadata": {
      "needs_background": "light"
     },
     "output_type": "display_data"
    }
   ],
   "source": [
    "sns.boxplot(df['age'])"
   ]
  },
  {
   "cell_type": "code",
   "execution_count": 32,
   "metadata": {
    "id": "yowXCkJnR0I3"
   },
   "outputs": [],
   "source": [
    "numericVar1 = [\"age\",\"Acc_balance\",\"duration\"]"
   ]
  },
  {
   "cell_type": "code",
   "execution_count": 33,
   "metadata": {
    "colab": {
     "base_uri": "https://localhost:8080/"
    },
    "id": "9vMWgl37Qx-2",
    "outputId": "96e9e2d8-c8f5-49c9-ffcf-d282f060cd29"
   },
   "outputs": [
    {
     "name": "stdout",
     "output_type": "stream",
     "text": [
      "The Lower Quartile outliers are :\n",
      " Id            -1498.50\n",
      "age              12.00\n",
      "Acc_balance   -1201.75\n",
      "day              -4.00\n",
      "duration       -182.50\n",
      "campaign         -2.00\n",
      "dtype: float64\n",
      "The Upper Quartile outliers are :\n",
      "  Id             8499.50\n",
      "age              68.00\n",
      "Acc_balance    2152.25\n",
      "day              28.00\n",
      "duration        629.50\n",
      "campaign          6.00\n",
      "dtype: float64\n"
     ]
    }
   ],
   "source": [
    "def Outdet(df):\n",
    "    Q1=df.quantile(0.25)\n",
    "    Q3=df.quantile(0.75)\n",
    "    IQR=Q3-Q1\n",
    "    LR=Q1-(IQR*1.5)\n",
    "    UR=Q3+(IQR*1.5)\n",
    "    return LR,UR\n",
    "\n",
    "LR,UR=Outdet(df)\n",
    "print(\"The Lower Quartile outliers are :\\n\",LR)\n",
    "print(\"The Upper Quartile outliers are :\\n \",UR)"
   ]
  },
  {
   "cell_type": "code",
   "execution_count": 34,
   "metadata": {
    "colab": {
     "base_uri": "https://localhost:8080/"
    },
    "id": "1KgZ1davQ7E6",
    "outputId": "b495194a-fe32-4afa-9ead-9685f4aeeec8"
   },
   "outputs": [
    {
     "name": "stdout",
     "output_type": "stream",
     "text": [
      "Old Shape:  (5000, 15)\n",
      "Outliers are: (array([  34,   40,   65,   69,   70,   83,  129,  186,  187,  205,  244,\n",
      "        249,  257,  323,  334,  382,  391,  428,  446,  493,  510,  533,\n",
      "        560,  565,  569,  582,  592,  613,  615,  617,  618,  628,  630,\n",
      "        719,  756,  757,  794,  866,  908,  916,  920, 1015, 1046, 1069,\n",
      "       1086, 1111, 1120, 1130, 1157, 1193, 1213, 1229, 1236, 1241, 1254,\n",
      "       1271, 1272, 1283, 1292, 1307, 1323, 1336, 1411, 1438, 1470, 1481,\n",
      "       1490, 1535, 1560, 1584, 1606, 1629, 1634, 1642, 1717, 1718, 1723,\n",
      "       1750, 1760, 1788, 1809, 1825, 1827, 1843, 1892, 1893, 1917, 1922,\n",
      "       1962, 1964, 1966, 1979, 1980, 1981, 1997, 2008, 2019, 2048, 2055,\n",
      "       2058, 2065, 2074, 2089, 2091, 2098, 2101, 2108, 2144, 2154, 2185,\n",
      "       2228, 2233, 2234, 2251, 2265, 2278, 2301, 2343, 2348, 2349, 2366,\n",
      "       2416, 2428, 2433, 2439, 2443, 2445, 2448, 2449, 2455, 2456, 2464,\n",
      "       2467, 2471, 2473, 2479, 2492, 2500, 2502, 2503, 2508, 2512, 2519,\n",
      "       2546, 2549, 2554, 2558, 2576, 2578, 2594, 2595, 2601, 2611, 2614,\n",
      "       2618, 2619, 2620, 2631, 2633, 2671, 2673, 2678, 2680, 2701, 2706,\n",
      "       2707, 2713, 2720, 2722, 2723, 2741, 2742, 2743, 2747, 2752, 2759,\n",
      "       2767, 2773, 2775, 2778, 2791, 2792, 2795, 2804, 2811, 2820, 2824,\n",
      "       2827, 2828, 2832, 2834, 2836, 2841, 2846, 2852, 2853, 2856, 2859,\n",
      "       2865, 2867, 2868, 2869, 2872, 2881, 2892, 2896, 2899, 2904, 2908,\n",
      "       2909, 2914, 2915, 2919, 2926, 2931, 2938, 2944, 2948, 2953, 2955,\n",
      "       2956, 2957, 2980, 2988, 2989, 2990, 2992, 2996, 2999, 3004, 3005,\n",
      "       3010, 3012, 3015, 3024, 3026, 3038, 3040, 3042, 3047, 3056, 3061,\n",
      "       3065, 3070, 3071, 3076, 3089, 3099, 3106, 3113, 3117, 3129, 3131,\n",
      "       3134, 3139, 3145, 3146, 3150, 3152, 3162, 3169, 3173, 3176, 3189,\n",
      "       3191, 3192, 3194, 3197, 3198, 3201, 3202, 3204, 3206, 3210, 3212,\n",
      "       3213, 3216, 3217, 3223, 3225, 3226, 3228, 3229, 3233, 3237, 3240,\n",
      "       3241, 3263, 3265, 3270, 3278, 3280, 3282, 3284, 3285, 3286, 3289,\n",
      "       3290, 3292, 3298, 3306, 3307, 3308, 3309, 3312, 3319, 3321, 3322,\n",
      "       3327, 3330, 3334, 3336, 3337, 3340, 3341, 3345, 3351, 3353, 3354,\n",
      "       3356, 3358, 3359, 3360, 3364, 3370, 3396, 3398, 3404, 3414, 3415,\n",
      "       3417, 3420, 3449, 3454, 3455, 3461, 3462, 3470, 3483, 3486, 3499,\n",
      "       3500, 3503, 3515, 3519, 3521, 3530, 3535, 3539, 3541, 3550, 3553,\n",
      "       3554, 3558, 3564, 3565, 3569, 3576, 3581, 3583, 3596, 3598, 3602,\n",
      "       3605, 3610, 3612, 3622, 3629, 3635, 3641, 3644, 3651, 3662, 3683,\n",
      "       3684, 3688, 3691, 3705, 3740, 3786, 3789, 3793, 3806, 3832, 3834,\n",
      "       3849, 3851, 3868, 3874, 3881, 3890, 3897, 3899, 3903, 3904, 3922,\n",
      "       3935, 3959, 3961, 3982, 3992, 3998, 4009, 4025, 4044, 4054, 4061,\n",
      "       4063, 4065, 4072, 4073, 4081, 4082, 4083, 4096, 4097, 4098, 4100,\n",
      "       4111, 4117, 4121, 4123, 4134, 4135, 4150, 4153, 4159, 4162, 4163,\n",
      "       4174, 4193, 4210, 4215, 4228, 4245, 4248, 4249, 4255, 4267, 4276,\n",
      "       4284, 4295, 4301, 4317, 4320, 4321, 4330, 4333, 4342, 4356, 4363,\n",
      "       4370, 4373, 4374, 4377, 4378, 4388, 4396, 4397, 4402, 4403, 4414,\n",
      "       4423, 4434, 4437, 4439, 4444, 4445, 4451, 4454, 4458, 4460, 4463,\n",
      "       4464, 4465, 4466, 4478, 4480, 4482, 4483, 4500, 4503, 4506, 4509,\n",
      "       4510, 4512, 4515, 4522, 4530, 4536, 4546, 4558, 4570, 4572, 4573,\n",
      "       4582, 4583, 4585, 4587, 4593, 4596, 4597, 4598, 4601, 4605, 4606,\n",
      "       4619, 4625, 4635, 4641, 4648, 4649, 4655, 4670, 4671, 4687, 4689,\n",
      "       4690, 4693, 4694, 4695, 4709, 4712, 4719, 4722, 4723, 4732, 4739,\n",
      "       4743, 4746, 4759, 4765, 4769, 4772, 4775, 4778, 4783, 4784, 4789,\n",
      "       4798, 4804, 4806, 4808, 4809, 4817, 4821, 4832, 4834, 4839, 4845,\n",
      "       4846, 4851, 4860, 4862, 4864, 4874, 4883, 4887, 4889, 4890, 4904,\n",
      "       4906, 4931, 4939, 4946, 4947, 4954, 4958, 4965, 4967, 4975, 4977,\n",
      "       4979, 4990, 4992, 4997], dtype=int64),) (array([1896, 2170, 2364, 2932, 3288, 3798, 4095], dtype=int64),)\n"
     ]
    }
   ],
   "source": [
    "# IQR\n",
    "Q1 = np.percentile(df['Acc_balance'], 25,\n",
    "                   interpolation = 'midpoint') \n",
    "Q3 = np.percentile(df['Acc_balance'], 75,\n",
    "                   interpolation = 'midpoint')\n",
    "IQR = Q3 - Q1\n",
    "print(\"Old Shape: \", df.shape)\n",
    " \n",
    "# Upper bound\n",
    "upper = np.where(df['Acc_balance'] >= (Q3+1.5*IQR))\n",
    "# Lower bound\n",
    "lower = np.where(df['Acc_balance'] <= (Q1-1.5*IQR))\n",
    " \n",
    "''' Detecting the Outliers '''\n",
    "print(\"Outliers are:\",upper,lower)"
   ]
  },
  {
   "cell_type": "code",
   "execution_count": 35,
   "metadata": {
    "colab": {
     "base_uri": "https://localhost:8080/"
    },
    "id": "UBUXVeBBWcif",
    "outputId": "a421659b-32ba-4a7d-9976-f41c4916af9a"
   },
   "outputs": [
    {
     "name": "stdout",
     "output_type": "stream",
     "text": [
      "Old Shape:  (5000, 15)\n",
      "Outliers are: (array([  37,   43,   53,   59,   61,   83,   86,   87,  109,  130,  152,\n",
      "        168,  170,  179,  181,  182,  224,  231,  232,  241,  249,  271,\n",
      "        291,  330,  347,  351,  372,  388,  390,  394,  411,  430,  431,\n",
      "        446,  467,  471,  474,  512,  569,  600,  624,  626,  663,  670,\n",
      "        694,  725,  728,  785,  814,  815,  817,  849,  853,  857,  877,\n",
      "        897,  930,  934,  956,  960,  987,  998, 1002, 1007, 1015, 1018,\n",
      "       1034, 1065, 1086, 1087, 1121, 1124, 1131, 1138, 1140, 1172, 1173,\n",
      "       1189, 1193, 1198, 1210, 1239, 1247, 1273, 1283, 1298, 1316, 1323,\n",
      "       1346, 1355, 1372, 1391, 1416, 1421, 1462, 1487, 1520, 1524, 1563,\n",
      "       1575, 1596, 1648, 1662, 1671, 1674, 1691, 1698, 1731, 1749, 1763,\n",
      "       1767, 1795, 1806, 1810, 1832, 1850, 1851, 1860, 1863, 1885, 1894,\n",
      "       1899, 1900, 1917, 1952, 1975, 1986, 2033, 2036, 2046, 2051, 2096,\n",
      "       2130, 2138, 2147, 2153, 2158, 2161, 2167, 2185, 2190, 2192, 2203,\n",
      "       2260, 2285, 2330, 2341, 2343, 2347, 2366, 2386, 2387, 2404, 2415,\n",
      "       2418, 2441, 2464, 2471, 2483, 2485, 2493, 2498, 2507, 2519, 2524,\n",
      "       2531, 2535, 2545, 2546, 2550, 2571, 2638, 2641, 2649, 2650, 2684,\n",
      "       2689, 2703, 2709, 2712, 2720, 2730, 2738, 2767, 2799, 2817, 2821,\n",
      "       2831, 2832, 2845, 2865, 2882, 2897, 2908, 2925, 2929, 2940, 2941,\n",
      "       2955, 2966, 2982, 2989, 3004, 3014, 3019, 3020, 3027, 3040, 3089,\n",
      "       3120, 3127, 3135, 3140, 3145, 3169, 3170, 3184, 3190, 3193, 3194,\n",
      "       3214, 3225, 3228, 3251, 3255, 3289, 3293, 3294, 3303, 3314, 3322,\n",
      "       3331, 3364, 3371, 3373, 3410, 3412, 3433, 3449, 3454, 3458, 3468,\n",
      "       3484, 3497, 3500, 3504, 3509, 3514, 3519, 3523, 3534, 3539, 3548,\n",
      "       3557, 3564, 3571, 3580, 3589, 3598, 3602, 3634, 3681, 3701, 3702,\n",
      "       3708, 3709, 3712, 3714, 3732, 3749, 3770, 3774, 3804, 3813, 3829,\n",
      "       3830, 3835, 3838, 3840, 3851, 3862, 3876, 3881, 3906, 3912, 3923,\n",
      "       3927, 3935, 3947, 3962, 3964, 3971, 3972, 3975, 3982, 3995, 3999,\n",
      "       4000, 4001, 4003, 4015, 4035, 4037, 4042, 4069, 4090, 4134, 4136,\n",
      "       4138, 4199, 4200, 4223, 4225, 4240, 4255, 4313, 4326, 4358, 4377,\n",
      "       4382, 4403, 4415, 4416, 4427, 4431, 4432, 4453, 4509, 4510, 4530,\n",
      "       4561, 4572, 4577, 4605, 4607, 4618, 4629, 4634, 4640, 4647, 4668,\n",
      "       4675, 4681, 4682, 4699, 4719, 4725, 4730, 4747, 4753, 4754, 4765,\n",
      "       4795, 4818, 4835, 4843, 4847, 4861, 4866, 4878, 4885, 4891, 4896,\n",
      "       4916, 4931, 4941, 4943, 4948, 4965, 4969, 4984, 4987, 4991, 4998],\n",
      "      dtype=int64),) (array([], dtype=int64),)\n"
     ]
    }
   ],
   "source": [
    "# IQR\n",
    "Q1 = np.percentile(df['duration'], 25,\n",
    "                   interpolation = 'midpoint')\n",
    " \n",
    "Q3 = np.percentile(df['duration'], 75,\n",
    "                   interpolation = 'midpoint')\n",
    "IQR = Q3 - Q1\n",
    " \n",
    "print(\"Old Shape: \", df.shape)\n",
    " \n",
    "# Upper bound\n",
    "upper = np.where(df['duration'] >= (Q3+1.5*IQR))\n",
    "# Lower bound\n",
    "lower = np.where(df['duration'] <= (Q1-1.5*IQR))\n",
    " \n",
    "''' Detecting the Outliers '''\n",
    "print(\"Outliers are:\",upper,lower)"
   ]
  },
  {
   "cell_type": "markdown",
   "metadata": {},
   "source": [
    "### 5.1 Boxplot on numerical features to find outliers"
   ]
  },
  {
   "cell_type": "code",
   "execution_count": 36,
   "metadata": {
    "colab": {
     "base_uri": "https://localhost:8080/",
     "height": 416
    },
    "id": "ueIloUiIGZaA",
    "outputId": "0161c218-7a91-4574-e371-70f6c450759b"
   },
   "outputs": [
    {
     "data": {
      "image/png": "[encoded data removed]",
      "text/plain": [
       "<Figure size 1440x4320 with 3 Axes>"
      ]
     },
     "metadata": {},
     "output_type": "display_data"
    }
   ],
   "source": [
    "# Boxplot on numerical features to find outliers\n",
    "\n",
    "plt.figure(figsize=(20,60), facecolor='white')\n",
    "plotnumber =1\n",
    "for numericVar1 in numericVar1:\n",
    "    ax = plt.subplot(12,3,plotnumber)\n",
    "    sns.boxplot(df[numericVar1])\n",
    "    plt.xlabel(numericVar1)\n",
    "    plotnumber+=1\n",
    "plt.show()"
   ]
  },
  {
   "cell_type": "markdown",
   "metadata": {
    "id": "wt01sBV7_km9"
   },
   "source": [
    "***\n",
    "##  6. Algorithm works\n",
    "***"
   ]
  },
  {
   "cell_type": "markdown",
   "metadata": {
    "id": "Z3bGgwPoW9dH"
   },
   "source": [
    "***\n",
    "### 6.1 Logistic Regression\n",
    "***"
   ]
  },
  {
   "cell_type": "code",
   "execution_count": 37,
   "metadata": {
    "colab": {
     "base_uri": "https://localhost:8080/",
     "height": 424
    },
    "id": "oSpNZ0p2NNXz",
    "outputId": "0eb310d4-2143-4d39-89a5-d29ef11dec5c"
   },
   "outputs": [
    {
     "data": {
      "text/html": [
       "<div>\n",
       "<style scoped>\n",
       "    .dataframe tbody tr th:only-of-type {\n",
       "        vertical-align: middle;\n",
       "    }\n",
       "\n",
       "    .dataframe tbody tr th {\n",
       "        vertical-align: top;\n",
       "    }\n",
       "\n",
       "    .dataframe thead th {\n",
       "        text-align: right;\n",
       "    }\n",
       "</style>\n",
       "<table border=\"1\" class=\"dataframe\">\n",
       "  <thead>\n",
       "    <tr style=\"text-align: right;\">\n",
       "      <th></th>\n",
       "      <th>Id</th>\n",
       "      <th>age</th>\n",
       "      <th>job</th>\n",
       "      <th>marital</th>\n",
       "      <th>education</th>\n",
       "      <th>default</th>\n",
       "      <th>Acc_balance</th>\n",
       "      <th>housing</th>\n",
       "      <th>loan</th>\n",
       "      <th>contact</th>\n",
       "      <th>day</th>\n",
       "      <th>month</th>\n",
       "      <th>duration</th>\n",
       "      <th>campaign</th>\n",
       "      <th>deposit</th>\n",
       "    </tr>\n",
       "  </thead>\n",
       "  <tbody>\n",
       "    <tr>\n",
       "      <th>0</th>\n",
       "      <td>1001</td>\n",
       "      <td>45</td>\n",
       "      <td>management</td>\n",
       "      <td>married</td>\n",
       "      <td>tertiary</td>\n",
       "      <td>no</td>\n",
       "      <td>2143</td>\n",
       "      <td>yes</td>\n",
       "      <td>no</td>\n",
       "      <td>unknown</td>\n",
       "      <td>5</td>\n",
       "      <td>may</td>\n",
       "      <td>261</td>\n",
       "      <td>1</td>\n",
       "      <td>0</td>\n",
       "    </tr>\n",
       "    <tr>\n",
       "      <th>1</th>\n",
       "      <td>1002</td>\n",
       "      <td>44</td>\n",
       "      <td>technician</td>\n",
       "      <td>single</td>\n",
       "      <td>secondary</td>\n",
       "      <td>no</td>\n",
       "      <td>29</td>\n",
       "      <td>yes</td>\n",
       "      <td>no</td>\n",
       "      <td>unknown</td>\n",
       "      <td>5</td>\n",
       "      <td>may</td>\n",
       "      <td>151</td>\n",
       "      <td>1</td>\n",
       "      <td>0</td>\n",
       "    </tr>\n",
       "    <tr>\n",
       "      <th>2</th>\n",
       "      <td>1003</td>\n",
       "      <td>33</td>\n",
       "      <td>entrepreneur</td>\n",
       "      <td>married</td>\n",
       "      <td>secondary</td>\n",
       "      <td>no</td>\n",
       "      <td>2</td>\n",
       "      <td>yes</td>\n",
       "      <td>yes</td>\n",
       "      <td>unknown</td>\n",
       "      <td>5</td>\n",
       "      <td>may</td>\n",
       "      <td>76</td>\n",
       "      <td>1</td>\n",
       "      <td>0</td>\n",
       "    </tr>\n",
       "    <tr>\n",
       "      <th>3</th>\n",
       "      <td>1004</td>\n",
       "      <td>47</td>\n",
       "      <td>blue-collar</td>\n",
       "      <td>married</td>\n",
       "      <td>unknown</td>\n",
       "      <td>no</td>\n",
       "      <td>1506</td>\n",
       "      <td>yes</td>\n",
       "      <td>no</td>\n",
       "      <td>unknown</td>\n",
       "      <td>5</td>\n",
       "      <td>may</td>\n",
       "      <td>92</td>\n",
       "      <td>1</td>\n",
       "      <td>0</td>\n",
       "    </tr>\n",
       "    <tr>\n",
       "      <th>4</th>\n",
       "      <td>1005</td>\n",
       "      <td>33</td>\n",
       "      <td>unknown</td>\n",
       "      <td>single</td>\n",
       "      <td>unknown</td>\n",
       "      <td>no</td>\n",
       "      <td>1</td>\n",
       "      <td>no</td>\n",
       "      <td>no</td>\n",
       "      <td>unknown</td>\n",
       "      <td>5</td>\n",
       "      <td>may</td>\n",
       "      <td>198</td>\n",
       "      <td>1</td>\n",
       "      <td>0</td>\n",
       "    </tr>\n",
       "    <tr>\n",
       "      <th>...</th>\n",
       "      <td>...</td>\n",
       "      <td>...</td>\n",
       "      <td>...</td>\n",
       "      <td>...</td>\n",
       "      <td>...</td>\n",
       "      <td>...</td>\n",
       "      <td>...</td>\n",
       "      <td>...</td>\n",
       "      <td>...</td>\n",
       "      <td>...</td>\n",
       "      <td>...</td>\n",
       "      <td>...</td>\n",
       "      <td>...</td>\n",
       "      <td>...</td>\n",
       "      <td>...</td>\n",
       "    </tr>\n",
       "    <tr>\n",
       "      <th>4995</th>\n",
       "      <td>5996</td>\n",
       "      <td>21</td>\n",
       "      <td>student</td>\n",
       "      <td>single</td>\n",
       "      <td>secondary</td>\n",
       "      <td>no</td>\n",
       "      <td>232</td>\n",
       "      <td>yes</td>\n",
       "      <td>no</td>\n",
       "      <td>unknown</td>\n",
       "      <td>21</td>\n",
       "      <td>may</td>\n",
       "      <td>110</td>\n",
       "      <td>2</td>\n",
       "      <td>0</td>\n",
       "    </tr>\n",
       "    <tr>\n",
       "      <th>4996</th>\n",
       "      <td>5997</td>\n",
       "      <td>31</td>\n",
       "      <td>management</td>\n",
       "      <td>single</td>\n",
       "      <td>tertiary</td>\n",
       "      <td>no</td>\n",
       "      <td>385</td>\n",
       "      <td>yes</td>\n",
       "      <td>no</td>\n",
       "      <td>unknown</td>\n",
       "      <td>21</td>\n",
       "      <td>may</td>\n",
       "      <td>304</td>\n",
       "      <td>1</td>\n",
       "      <td>0</td>\n",
       "    </tr>\n",
       "    <tr>\n",
       "      <th>4997</th>\n",
       "      <td>5998</td>\n",
       "      <td>34</td>\n",
       "      <td>blue-collar</td>\n",
       "      <td>married</td>\n",
       "      <td>secondary</td>\n",
       "      <td>no</td>\n",
       "      <td>5304</td>\n",
       "      <td>yes</td>\n",
       "      <td>no</td>\n",
       "      <td>unknown</td>\n",
       "      <td>21</td>\n",
       "      <td>may</td>\n",
       "      <td>51</td>\n",
       "      <td>2</td>\n",
       "      <td>0</td>\n",
       "    </tr>\n",
       "    <tr>\n",
       "      <th>4998</th>\n",
       "      <td>5999</td>\n",
       "      <td>35</td>\n",
       "      <td>management</td>\n",
       "      <td>single</td>\n",
       "      <td>tertiary</td>\n",
       "      <td>no</td>\n",
       "      <td>71</td>\n",
       "      <td>yes</td>\n",
       "      <td>no</td>\n",
       "      <td>unknown</td>\n",
       "      <td>21</td>\n",
       "      <td>may</td>\n",
       "      <td>836</td>\n",
       "      <td>12</td>\n",
       "      <td>0</td>\n",
       "    </tr>\n",
       "    <tr>\n",
       "      <th>4999</th>\n",
       "      <td>6000</td>\n",
       "      <td>32</td>\n",
       "      <td>technician</td>\n",
       "      <td>single</td>\n",
       "      <td>unknown</td>\n",
       "      <td>no</td>\n",
       "      <td>317</td>\n",
       "      <td>yes</td>\n",
       "      <td>no</td>\n",
       "      <td>unknown</td>\n",
       "      <td>21</td>\n",
       "      <td>may</td>\n",
       "      <td>394</td>\n",
       "      <td>2</td>\n",
       "      <td>0</td>\n",
       "    </tr>\n",
       "  </tbody>\n",
       "</table>\n",
       "<p>5000 rows × 15 columns</p>\n",
       "</div>"
      ],
      "text/plain": [
       "        Id  age           job  marital  education default  Acc_balance  \\\n",
       "0     1001   45    management  married   tertiary      no         2143   \n",
       "1     1002   44    technician   single  secondary      no           29   \n",
       "2     1003   33  entrepreneur  married  secondary      no            2   \n",
       "3     1004   47   blue-collar  married    unknown      no         1506   \n",
       "4     1005   33       unknown   single    unknown      no            1   \n",
       "...    ...  ...           ...      ...        ...     ...          ...   \n",
       "4995  5996   21       student   single  secondary      no          232   \n",
       "4996  5997   31    management   single   tertiary      no          385   \n",
       "4997  5998   34   blue-collar  married  secondary      no         5304   \n",
       "4998  5999   35    management   single   tertiary      no           71   \n",
       "4999  6000   32    technician   single    unknown      no          317   \n",
       "\n",
       "     housing loan  contact  day month  duration  campaign  deposit  \n",
       "0        yes   no  unknown    5   may       261         1        0  \n",
       "1        yes   no  unknown    5   may       151         1        0  \n",
       "2        yes  yes  unknown    5   may        76         1        0  \n",
       "3        yes   no  unknown    5   may        92         1        0  \n",
       "4         no   no  unknown    5   may       198         1        0  \n",
       "...      ...  ...      ...  ...   ...       ...       ...      ...  \n",
       "4995     yes   no  unknown   21   may       110         2        0  \n",
       "4996     yes   no  unknown   21   may       304         1        0  \n",
       "4997     yes   no  unknown   21   may        51         2        0  \n",
       "4998     yes   no  unknown   21   may       836        12        0  \n",
       "4999     yes   no  unknown   21   may       394         2        0  \n",
       "\n",
       "[5000 rows x 15 columns]"
      ]
     },
     "execution_count": 37,
     "metadata": {},
     "output_type": "execute_result"
    }
   ],
   "source": [
    "df.deposit=df.deposit.replace(\"yes\",1)\n",
    "df.deposit=df.deposit.replace(\"no\",0)\n",
    "df"
   ]
  },
  {
   "cell_type": "code",
   "execution_count": 38,
   "metadata": {
    "colab": {
     "base_uri": "https://localhost:8080/",
     "height": 505
    },
    "id": "saFxydRD4XT6",
    "outputId": "58382246-b02a-42a6-df20-c79190d71b04"
   },
   "outputs": [
    {
     "data": {
      "text/html": [
       "<div>\n",
       "<style scoped>\n",
       "    .dataframe tbody tr th:only-of-type {\n",
       "        vertical-align: middle;\n",
       "    }\n",
       "\n",
       "    .dataframe tbody tr th {\n",
       "        vertical-align: top;\n",
       "    }\n",
       "\n",
       "    .dataframe thead th {\n",
       "        text-align: right;\n",
       "    }\n",
       "</style>\n",
       "<table border=\"1\" class=\"dataframe\">\n",
       "  <thead>\n",
       "    <tr style=\"text-align: right;\">\n",
       "      <th></th>\n",
       "      <th>Id</th>\n",
       "      <th>age</th>\n",
       "      <th>Acc_balance</th>\n",
       "      <th>day</th>\n",
       "      <th>duration</th>\n",
       "      <th>campaign</th>\n",
       "      <th>deposit</th>\n",
       "      <th>job_admin.</th>\n",
       "      <th>job_blue-collar</th>\n",
       "      <th>job_entrepreneur</th>\n",
       "      <th>...</th>\n",
       "      <th>default_no</th>\n",
       "      <th>default_yes</th>\n",
       "      <th>housing_no</th>\n",
       "      <th>housing_yes</th>\n",
       "      <th>loan_no</th>\n",
       "      <th>loan_yes</th>\n",
       "      <th>contact_cellular</th>\n",
       "      <th>contact_telephone</th>\n",
       "      <th>contact_unknown</th>\n",
       "      <th>month_may</th>\n",
       "    </tr>\n",
       "  </thead>\n",
       "  <tbody>\n",
       "    <tr>\n",
       "      <th>0</th>\n",
       "      <td>1001</td>\n",
       "      <td>45</td>\n",
       "      <td>2143</td>\n",
       "      <td>5</td>\n",
       "      <td>261</td>\n",
       "      <td>1</td>\n",
       "      <td>0</td>\n",
       "      <td>0</td>\n",
       "      <td>0</td>\n",
       "      <td>0</td>\n",
       "      <td>...</td>\n",
       "      <td>1</td>\n",
       "      <td>0</td>\n",
       "      <td>0</td>\n",
       "      <td>1</td>\n",
       "      <td>1</td>\n",
       "      <td>0</td>\n",
       "      <td>0</td>\n",
       "      <td>0</td>\n",
       "      <td>1</td>\n",
       "      <td>1</td>\n",
       "    </tr>\n",
       "    <tr>\n",
       "      <th>1</th>\n",
       "      <td>1002</td>\n",
       "      <td>44</td>\n",
       "      <td>29</td>\n",
       "      <td>5</td>\n",
       "      <td>151</td>\n",
       "      <td>1</td>\n",
       "      <td>0</td>\n",
       "      <td>0</td>\n",
       "      <td>0</td>\n",
       "      <td>0</td>\n",
       "      <td>...</td>\n",
       "      <td>1</td>\n",
       "      <td>0</td>\n",
       "      <td>0</td>\n",
       "      <td>1</td>\n",
       "      <td>1</td>\n",
       "      <td>0</td>\n",
       "      <td>0</td>\n",
       "      <td>0</td>\n",
       "      <td>1</td>\n",
       "      <td>1</td>\n",
       "    </tr>\n",
       "    <tr>\n",
       "      <th>2</th>\n",
       "      <td>1003</td>\n",
       "      <td>33</td>\n",
       "      <td>2</td>\n",
       "      <td>5</td>\n",
       "      <td>76</td>\n",
       "      <td>1</td>\n",
       "      <td>0</td>\n",
       "      <td>0</td>\n",
       "      <td>0</td>\n",
       "      <td>1</td>\n",
       "      <td>...</td>\n",
       "      <td>1</td>\n",
       "      <td>0</td>\n",
       "      <td>0</td>\n",
       "      <td>1</td>\n",
       "      <td>0</td>\n",
       "      <td>1</td>\n",
       "      <td>0</td>\n",
       "      <td>0</td>\n",
       "      <td>1</td>\n",
       "      <td>1</td>\n",
       "    </tr>\n",
       "    <tr>\n",
       "      <th>3</th>\n",
       "      <td>1004</td>\n",
       "      <td>47</td>\n",
       "      <td>1506</td>\n",
       "      <td>5</td>\n",
       "      <td>92</td>\n",
       "      <td>1</td>\n",
       "      <td>0</td>\n",
       "      <td>0</td>\n",
       "      <td>1</td>\n",
       "      <td>0</td>\n",
       "      <td>...</td>\n",
       "      <td>1</td>\n",
       "      <td>0</td>\n",
       "      <td>0</td>\n",
       "      <td>1</td>\n",
       "      <td>1</td>\n",
       "      <td>0</td>\n",
       "      <td>0</td>\n",
       "      <td>0</td>\n",
       "      <td>1</td>\n",
       "      <td>1</td>\n",
       "    </tr>\n",
       "    <tr>\n",
       "      <th>4</th>\n",
       "      <td>1005</td>\n",
       "      <td>33</td>\n",
       "      <td>1</td>\n",
       "      <td>5</td>\n",
       "      <td>198</td>\n",
       "      <td>1</td>\n",
       "      <td>0</td>\n",
       "      <td>0</td>\n",
       "      <td>0</td>\n",
       "      <td>0</td>\n",
       "      <td>...</td>\n",
       "      <td>1</td>\n",
       "      <td>0</td>\n",
       "      <td>1</td>\n",
       "      <td>0</td>\n",
       "      <td>1</td>\n",
       "      <td>0</td>\n",
       "      <td>0</td>\n",
       "      <td>0</td>\n",
       "      <td>1</td>\n",
       "      <td>1</td>\n",
       "    </tr>\n",
       "    <tr>\n",
       "      <th>...</th>\n",
       "      <td>...</td>\n",
       "      <td>...</td>\n",
       "      <td>...</td>\n",
       "      <td>...</td>\n",
       "      <td>...</td>\n",
       "      <td>...</td>\n",
       "      <td>...</td>\n",
       "      <td>...</td>\n",
       "      <td>...</td>\n",
       "      <td>...</td>\n",
       "      <td>...</td>\n",
       "      <td>...</td>\n",
       "      <td>...</td>\n",
       "      <td>...</td>\n",
       "      <td>...</td>\n",
       "      <td>...</td>\n",
       "      <td>...</td>\n",
       "      <td>...</td>\n",
       "      <td>...</td>\n",
       "      <td>...</td>\n",
       "      <td>...</td>\n",
       "    </tr>\n",
       "    <tr>\n",
       "      <th>4995</th>\n",
       "      <td>5996</td>\n",
       "      <td>21</td>\n",
       "      <td>232</td>\n",
       "      <td>21</td>\n",
       "      <td>110</td>\n",
       "      <td>2</td>\n",
       "      <td>0</td>\n",
       "      <td>0</td>\n",
       "      <td>0</td>\n",
       "      <td>0</td>\n",
       "      <td>...</td>\n",
       "      <td>1</td>\n",
       "      <td>0</td>\n",
       "      <td>0</td>\n",
       "      <td>1</td>\n",
       "      <td>1</td>\n",
       "      <td>0</td>\n",
       "      <td>0</td>\n",
       "      <td>0</td>\n",
       "      <td>1</td>\n",
       "      <td>1</td>\n",
       "    </tr>\n",
       "    <tr>\n",
       "      <th>4996</th>\n",
       "      <td>5997</td>\n",
       "      <td>31</td>\n",
       "      <td>385</td>\n",
       "      <td>21</td>\n",
       "      <td>304</td>\n",
       "      <td>1</td>\n",
       "      <td>0</td>\n",
       "      <td>0</td>\n",
       "      <td>0</td>\n",
       "      <td>0</td>\n",
       "      <td>...</td>\n",
       "      <td>1</td>\n",
       "      <td>0</td>\n",
       "      <td>0</td>\n",
       "      <td>1</td>\n",
       "      <td>1</td>\n",
       "      <td>0</td>\n",
       "      <td>0</td>\n",
       "      <td>0</td>\n",
       "      <td>1</td>\n",
       "      <td>1</td>\n",
       "    </tr>\n",
       "    <tr>\n",
       "      <th>4997</th>\n",
       "      <td>5998</td>\n",
       "      <td>34</td>\n",
       "      <td>5304</td>\n",
       "      <td>21</td>\n",
       "      <td>51</td>\n",
       "      <td>2</td>\n",
       "      <td>0</td>\n",
       "      <td>0</td>\n",
       "      <td>1</td>\n",
       "      <td>0</td>\n",
       "      <td>...</td>\n",
       "      <td>1</td>\n",
       "      <td>0</td>\n",
       "      <td>0</td>\n",
       "      <td>1</td>\n",
       "      <td>1</td>\n",
       "      <td>0</td>\n",
       "      <td>0</td>\n",
       "      <td>0</td>\n",
       "      <td>1</td>\n",
       "      <td>1</td>\n",
       "    </tr>\n",
       "    <tr>\n",
       "      <th>4998</th>\n",
       "      <td>5999</td>\n",
       "      <td>35</td>\n",
       "      <td>71</td>\n",
       "      <td>21</td>\n",
       "      <td>836</td>\n",
       "      <td>12</td>\n",
       "      <td>0</td>\n",
       "      <td>0</td>\n",
       "      <td>0</td>\n",
       "      <td>0</td>\n",
       "      <td>...</td>\n",
       "      <td>1</td>\n",
       "      <td>0</td>\n",
       "      <td>0</td>\n",
       "      <td>1</td>\n",
       "      <td>1</td>\n",
       "      <td>0</td>\n",
       "      <td>0</td>\n",
       "      <td>0</td>\n",
       "      <td>1</td>\n",
       "      <td>1</td>\n",
       "    </tr>\n",
       "    <tr>\n",
       "      <th>4999</th>\n",
       "      <td>6000</td>\n",
       "      <td>32</td>\n",
       "      <td>317</td>\n",
       "      <td>21</td>\n",
       "      <td>394</td>\n",
       "      <td>2</td>\n",
       "      <td>0</td>\n",
       "      <td>0</td>\n",
       "      <td>0</td>\n",
       "      <td>0</td>\n",
       "      <td>...</td>\n",
       "      <td>1</td>\n",
       "      <td>0</td>\n",
       "      <td>0</td>\n",
       "      <td>1</td>\n",
       "      <td>1</td>\n",
       "      <td>0</td>\n",
       "      <td>0</td>\n",
       "      <td>0</td>\n",
       "      <td>1</td>\n",
       "      <td>1</td>\n",
       "    </tr>\n",
       "  </tbody>\n",
       "</table>\n",
       "<p>5000 rows × 36 columns</p>\n",
       "</div>"
      ],
      "text/plain": [
       "        Id  age  Acc_balance  day  duration  campaign  deposit  job_admin.  \\\n",
       "0     1001   45         2143    5       261         1        0           0   \n",
       "1     1002   44           29    5       151         1        0           0   \n",
       "2     1003   33            2    5        76         1        0           0   \n",
       "3     1004   47         1506    5        92         1        0           0   \n",
       "4     1005   33            1    5       198         1        0           0   \n",
       "...    ...  ...          ...  ...       ...       ...      ...         ...   \n",
       "4995  5996   21          232   21       110         2        0           0   \n",
       "4996  5997   31          385   21       304         1        0           0   \n",
       "4997  5998   34         5304   21        51         2        0           0   \n",
       "4998  5999   35           71   21       836        12        0           0   \n",
       "4999  6000   32          317   21       394         2        0           0   \n",
       "\n",
       "      job_blue-collar  job_entrepreneur  ...  default_no  default_yes  \\\n",
       "0                   0                 0  ...           1            0   \n",
       "1                   0                 0  ...           1            0   \n",
       "2                   0                 1  ...           1            0   \n",
       "3                   1                 0  ...           1            0   \n",
       "4                   0                 0  ...           1            0   \n",
       "...               ...               ...  ...         ...          ...   \n",
       "4995                0                 0  ...           1            0   \n",
       "4996                0                 0  ...           1            0   \n",
       "4997                1                 0  ...           1            0   \n",
       "4998                0                 0  ...           1            0   \n",
       "4999                0                 0  ...           1            0   \n",
       "\n",
       "      housing_no  housing_yes  loan_no  loan_yes  contact_cellular  \\\n",
       "0              0            1        1         0                 0   \n",
       "1              0            1        1         0                 0   \n",
       "2              0            1        0         1                 0   \n",
       "3              0            1        1         0                 0   \n",
       "4              1            0        1         0                 0   \n",
       "...          ...          ...      ...       ...               ...   \n",
       "4995           0            1        1         0                 0   \n",
       "4996           0            1        1         0                 0   \n",
       "4997           0            1        1         0                 0   \n",
       "4998           0            1        1         0                 0   \n",
       "4999           0            1        1         0                 0   \n",
       "\n",
       "      contact_telephone  contact_unknown  month_may  \n",
       "0                     0                1          1  \n",
       "1                     0                1          1  \n",
       "2                     0                1          1  \n",
       "3                     0                1          1  \n",
       "4                     0                1          1  \n",
       "...                 ...              ...        ...  \n",
       "4995                  0                1          1  \n",
       "4996                  0                1          1  \n",
       "4997                  0                1          1  \n",
       "4998                  0                1          1  \n",
       "4999                  0                1          1  \n",
       "\n",
       "[5000 rows x 36 columns]"
      ]
     },
     "execution_count": 38,
     "metadata": {},
     "output_type": "execute_result"
    }
   ],
   "source": [
    "#logistic regression\n",
    "df=pd.get_dummies(df)\n",
    "df"
   ]
  },
  {
   "cell_type": "markdown",
   "metadata": {},
   "source": [
    "### 6.1.1 Splitting the data into x and y"
   ]
  },
  {
   "cell_type": "code",
   "execution_count": 39,
   "metadata": {
    "id": "0_eZqXb_xl3Y"
   },
   "outputs": [],
   "source": [
    "x=df.drop('deposit', axis=1)\n",
    "y=df['deposit']"
   ]
  },
  {
   "cell_type": "markdown",
   "metadata": {},
   "source": [
    "### 6.1.2 Splitting the data into Train and Test Splits"
   ]
  },
  {
   "cell_type": "code",
   "execution_count": 40,
   "metadata": {
    "id": "CkaqPKrMxlxB"
   },
   "outputs": [],
   "source": [
    "#LogisticRegression\n",
    "#splitting\n",
    "from sklearn.model_selection import train_test_split \n",
    "x_test,x_train,y_test,y_train=train_test_split (x,y,test_size=0.25,random_state=0)"
   ]
  },
  {
   "cell_type": "code",
   "execution_count": 41,
   "metadata": {
    "colab": {
     "base_uri": "https://localhost:8080/"
    },
    "id": "YFYk_jFxxlul",
    "outputId": "671c2da2-d89b-49f3-f985-5841547e61e5"
   },
   "outputs": [
    {
     "data": {
      "text/plain": [
       "LogisticRegression()"
      ]
     },
     "execution_count": 41,
     "metadata": {},
     "output_type": "execute_result"
    }
   ],
   "source": [
    "#fitting\n",
    "from sklearn.linear_model import LogisticRegression\n",
    "model=LogisticRegression()\n",
    "model.fit(x_train,y_train)"
   ]
  },
  {
   "cell_type": "code",
   "execution_count": 42,
   "metadata": {
    "colab": {
     "base_uri": "https://localhost:8080/"
    },
    "id": "pmbVcw-PxlpI",
    "outputId": "f729b232-e567-466c-b2e3-604417b2b3a3"
   },
   "outputs": [
    {
     "data": {
      "text/plain": [
       "array([0, 0, 0, ..., 0, 0, 0], dtype=int64)"
      ]
     },
     "execution_count": 42,
     "metadata": {},
     "output_type": "execute_result"
    }
   ],
   "source": [
    "#prediction\n",
    "y_pred=model.predict(x_test)\n",
    "y_pred"
   ]
  },
  {
   "cell_type": "code",
   "execution_count": 43,
   "metadata": {
    "colab": {
     "base_uri": "https://localhost:8080/"
    },
    "id": "3quo1y5U5MXo",
    "outputId": "ad6ac37b-15cf-4c68-e6da-40877975d2a4"
   },
   "outputs": [
    {
     "data": {
      "text/plain": [
       "array([[9.86272154e-01, 1.37278458e-02],\n",
       "       [9.99013311e-01, 9.86688761e-04],\n",
       "       [9.99594810e-01, 4.05190402e-04],\n",
       "       ...,\n",
       "       [9.71870700e-01, 2.81293003e-02],\n",
       "       [9.32559711e-01, 6.74402889e-02],\n",
       "       [9.99427705e-01, 5.72295002e-04]])"
      ]
     },
     "execution_count": 43,
     "metadata": {},
     "output_type": "execute_result"
    }
   ],
   "source": [
    "#predicting the occurances of  probabilitiess for the data\n",
    "model.predict_proba(x_test)"
   ]
  },
  {
   "cell_type": "code",
   "execution_count": 44,
   "metadata": {
    "colab": {
     "base_uri": "https://localhost:8080/"
    },
    "id": "HxLeNHS45QAn",
    "outputId": "0973193d-4790-46a2-e39b-11d6354b1ae6"
   },
   "outputs": [
    {
     "data": {
      "text/plain": [
       "0.9682666666666667"
      ]
     },
     "execution_count": 44,
     "metadata": {},
     "output_type": "execute_result"
    }
   ],
   "source": [
    "#to measure the accuracy of model\n",
    "from sklearn.metrics import accuracy_score,confusion_matrix,classification_report\n",
    "accuracy_score(y_test,y_pred)"
   ]
  },
  {
   "cell_type": "code",
   "execution_count": 45,
   "metadata": {
    "colab": {
     "base_uri": "https://localhost:8080/"
    },
    "id": "JSWizVGo5TGs",
    "outputId": "9bf6b6ea-fe59-4d2e-a680-29b2de1f3a4c"
   },
   "outputs": [
    {
     "data": {
      "text/plain": [
       "array([[3613,   21],\n",
       "       [  98,   18]], dtype=int64)"
      ]
     },
     "execution_count": 45,
     "metadata": {},
     "output_type": "execute_result"
    }
   ],
   "source": [
    "confusion_matrix(y_test,y_pred)"
   ]
  },
  {
   "cell_type": "code",
   "execution_count": 46,
   "metadata": {
    "colab": {
     "base_uri": "https://localhost:8080/"
    },
    "id": "xv8iOBRl5pL6",
    "outputId": "8b9b22a1-cf8e-4db1-bd65-f5b0d65b1bcf"
   },
   "outputs": [
    {
     "name": "stdout",
     "output_type": "stream",
     "text": [
      "              precision    recall  f1-score   support\n",
      "\n",
      "           0       0.97      0.99      0.98      3634\n",
      "           1       0.46      0.16      0.23       116\n",
      "\n",
      "    accuracy                           0.97      3750\n",
      "   macro avg       0.72      0.57      0.61      3750\n",
      "weighted avg       0.96      0.97      0.96      3750\n",
      "\n"
     ]
    }
   ],
   "source": [
    "A=classification_report(y_test,y_pred)\n",
    "print(A)"
   ]
  },
  {
   "cell_type": "markdown",
   "metadata": {},
   "source": [
    "### 6.1.3 Logistic Regression accuracy"
   ]
  },
  {
   "cell_type": "code",
   "execution_count": 47,
   "metadata": {
    "colab": {
     "base_uri": "https://localhost:8080/"
    },
    "id": "uCkgGj6DUboe",
    "outputId": "d02cdac2-a9a5-43c7-824b-a48d6c227335"
   },
   "outputs": [
    {
     "name": "stdout",
     "output_type": "stream",
     "text": [
      "Logistic Regression accuracy: 96.82666666666667\n"
     ]
    }
   ],
   "source": [
    "accuracies = {}\n",
    "accuracy_score(y_test,y_pred)\n",
    "Logistic_acc = accuracy_score(y_test,y_pred)*100\n",
    "print(\"Logistic Regression accuracy:\",Logistic_acc)\n",
    "accuracies['Logistic Regression']=Logistic_acc"
   ]
  },
  {
   "cell_type": "markdown",
   "metadata": {
    "id": "Prv8Ne_b544Q"
   },
   "source": [
    "***\n",
    "### 6.2 Random Forest\n",
    "***"
   ]
  },
  {
   "cell_type": "code",
   "execution_count": 48,
   "metadata": {
    "colab": {
     "base_uri": "https://localhost:8080/"
    },
    "id": "KKdLv2Cs5TEf",
    "outputId": "33cd4e58-36a9-451e-b2bd-3d9d372e909a"
   },
   "outputs": [
    {
     "data": {
      "text/plain": [
       "RandomForestClassifier(criterion='entropy', n_estimators=10, random_state=0)"
      ]
     },
     "execution_count": 48,
     "metadata": {},
     "output_type": "execute_result"
    }
   ],
   "source": [
    "#RandomForest\n",
    "#fitting random forest classification to the training set\n",
    "from sklearn.ensemble import RandomForestClassifier\n",
    "classifier=RandomForestClassifier(n_estimators=10,criterion='entropy',random_state=0)\n",
    "classifier.fit(x_train,y_train)"
   ]
  },
  {
   "cell_type": "code",
   "execution_count": 49,
   "metadata": {
    "id": "_2ITpFfr5_XI"
   },
   "outputs": [],
   "source": [
    "#predicting the test set results\n",
    "y__pred=classifier.predict(x_test)"
   ]
  },
  {
   "cell_type": "code",
   "execution_count": 50,
   "metadata": {
    "colab": {
     "base_uri": "https://localhost:8080/"
    },
    "id": "HWclSJww5_Ty",
    "outputId": "b67d4de7-8694-4e90-cc9f-dfa2cfeb021b"
   },
   "outputs": [
    {
     "name": "stdout",
     "output_type": "stream",
     "text": [
      "0.9696\n"
     ]
    }
   ],
   "source": [
    "#to measure the accuracy of model\n",
    "from sklearn.metrics import accuracy_score,confusion_matrix,classification_report\n",
    "print(accuracy_score(y_test,y__pred))"
   ]
  },
  {
   "cell_type": "code",
   "execution_count": 51,
   "metadata": {
    "colab": {
     "base_uri": "https://localhost:8080/"
    },
    "id": "0bXskRlt5_Rf",
    "outputId": "ccd7e96e-7646-4cf0-c61c-3df88bc6e0ca"
   },
   "outputs": [
    {
     "data": {
      "text/plain": [
       "array([[3630,    4],\n",
       "       [ 110,    6]], dtype=int64)"
      ]
     },
     "execution_count": 51,
     "metadata": {},
     "output_type": "execute_result"
    }
   ],
   "source": [
    "#making confusion matrix\n",
    "confusion_matrix(y_test,y__pred)"
   ]
  },
  {
   "cell_type": "code",
   "execution_count": 52,
   "metadata": {
    "colab": {
     "base_uri": "https://localhost:8080/"
    },
    "id": "0kH_kiX16F9u",
    "outputId": "e70eae32-5026-4543-ba31-c22a288da3da"
   },
   "outputs": [
    {
     "name": "stdout",
     "output_type": "stream",
     "text": [
      "              precision    recall  f1-score   support\n",
      "\n",
      "           0       0.97      1.00      0.98      3634\n",
      "           1       0.60      0.05      0.10       116\n",
      "\n",
      "    accuracy                           0.97      3750\n",
      "   macro avg       0.79      0.53      0.54      3750\n",
      "weighted avg       0.96      0.97      0.96      3750\n",
      "\n"
     ]
    }
   ],
   "source": [
    "#classification report\n",
    "B=classification_report(y_test,y__pred)\n",
    "print(B) "
   ]
  },
  {
   "cell_type": "markdown",
   "metadata": {},
   "source": [
    "### 6.2.1 Random Forest accuracy"
   ]
  },
  {
   "cell_type": "code",
   "execution_count": 53,
   "metadata": {
    "colab": {
     "base_uri": "https://localhost:8080/"
    },
    "id": "gZhvcpQoUvgI",
    "outputId": "a3197db2-9fb9-4f4c-c274-2590fda59e82"
   },
   "outputs": [
    {
     "name": "stdout",
     "output_type": "stream",
     "text": [
      "Random Forest accuracy: 96.96000000000001\n"
     ]
    }
   ],
   "source": [
    "Random_Forest_acc = accuracy_score(y_test,y__pred)*100\n",
    "print(\"Random Forest accuracy:\",Random_Forest_acc)\n",
    "accuracies['Random Forest']=Random_Forest_acc"
   ]
  },
  {
   "cell_type": "markdown",
   "metadata": {
    "id": "ZerD9hqx6hkj"
   },
   "source": [
    "***\n",
    "### 6.3  DecisionTree Classifier\n",
    "***"
   ]
  },
  {
   "cell_type": "code",
   "execution_count": 54,
   "metadata": {
    "colab": {
     "base_uri": "https://localhost:8080/"
    },
    "id": "-quunBws6f4_",
    "outputId": "38036946-8bce-47ef-8f80-034875b388f2"
   },
   "outputs": [
    {
     "data": {
      "text/plain": [
       "DecisionTreeClassifier()"
      ]
     },
     "execution_count": 54,
     "metadata": {},
     "output_type": "execute_result"
    }
   ],
   "source": [
    "#DecisionTreeClassifier\n",
    "from sklearn.tree import DecisionTreeClassifier\n",
    "model=DecisionTreeClassifier()\n",
    "model.fit(x_train,y_train)"
   ]
  },
  {
   "cell_type": "code",
   "execution_count": 55,
   "metadata": {
    "colab": {
     "base_uri": "https://localhost:8080/"
    },
    "id": "8aQfvBCZ6fzt",
    "outputId": "70138470-73b8-4c58-bbb7-77e3ae7dfccb"
   },
   "outputs": [
    {
     "data": {
      "text/plain": [
       "array([0, 0, 0, ..., 0, 0, 0], dtype=int64)"
      ]
     },
     "execution_count": 55,
     "metadata": {},
     "output_type": "execute_result"
    }
   ],
   "source": [
    "#prediction\n",
    "ypred=model.predict(x_test)\n",
    "ypred"
   ]
  },
  {
   "cell_type": "code",
   "execution_count": 56,
   "metadata": {
    "colab": {
     "base_uri": "https://localhost:8080/"
    },
    "id": "M39G44Sl6fxu",
    "outputId": "f7ff49f9-2e83-43ca-ad9a-4d56d7e1f5e4"
   },
   "outputs": [
    {
     "data": {
      "text/plain": [
       "0.9592"
      ]
     },
     "execution_count": 56,
     "metadata": {},
     "output_type": "execute_result"
    }
   ],
   "source": [
    "#to measure the accuracy of model\n",
    "from sklearn.metrics import accuracy_score,confusion_matrix,classification_report\n",
    "accuracy_score(y_test,ypred)"
   ]
  },
  {
   "cell_type": "code",
   "execution_count": 57,
   "metadata": {
    "colab": {
     "base_uri": "https://localhost:8080/"
    },
    "id": "3ln5QsmZ6fvU",
    "outputId": "05a7828a-4bf8-46bb-f91f-b6a757d90a67"
   },
   "outputs": [
    {
     "data": {
      "text/plain": [
       "array([[3567,   67],\n",
       "       [  86,   30]], dtype=int64)"
      ]
     },
     "execution_count": 57,
     "metadata": {},
     "output_type": "execute_result"
    }
   ],
   "source": [
    "confusion_matrix(y_test,ypred)"
   ]
  },
  {
   "cell_type": "code",
   "execution_count": 58,
   "metadata": {
    "colab": {
     "base_uri": "https://localhost:8080/"
    },
    "id": "Qvx1H_WQ6fs9",
    "outputId": "4a5bc4e3-3d96-4da9-87b1-b1dbd318f1b7"
   },
   "outputs": [
    {
     "name": "stdout",
     "output_type": "stream",
     "text": [
      "              precision    recall  f1-score   support\n",
      "\n",
      "           0       0.98      0.98      0.98      3634\n",
      "           1       0.31      0.26      0.28       116\n",
      "\n",
      "    accuracy                           0.96      3750\n",
      "   macro avg       0.64      0.62      0.63      3750\n",
      "weighted avg       0.96      0.96      0.96      3750\n",
      "\n"
     ]
    }
   ],
   "source": [
    "C=classification_report(y_test,ypred)\n",
    "print(C)"
   ]
  },
  {
   "cell_type": "markdown",
   "metadata": {},
   "source": [
    "### 6.3.1 Decision_Tree Accuracy"
   ]
  },
  {
   "cell_type": "code",
   "execution_count": 59,
   "metadata": {
    "colab": {
     "base_uri": "https://localhost:8080/"
    },
    "id": "8uMf5uXxVMah",
    "outputId": "ae83ebb7-ddf8-465b-b4f4-3d61e8e5def1"
   },
   "outputs": [
    {
     "name": "stdout",
     "output_type": "stream",
     "text": [
      "Decision_Tree: 95.92\n"
     ]
    }
   ],
   "source": [
    "DecisionTree_acc = accuracy_score(y_test,ypred)*100\n",
    "print(\"Decision_Tree:\",DecisionTree_acc)\n",
    "accuracies['Decision_Tree']=DecisionTree_acc"
   ]
  },
  {
   "cell_type": "markdown",
   "metadata": {
    "id": "TavYNsLq7NK9"
   },
   "source": [
    "***\n",
    "### 6.4 K-Nearest Neighbor\n",
    "***"
   ]
  },
  {
   "cell_type": "code",
   "execution_count": 60,
   "metadata": {
    "colab": {
     "base_uri": "https://localhost:8080/"
    },
    "id": "yuoH0g4V7bj-",
    "outputId": "2a1df2b4-af64-4661-f918-8f7b121c140c"
   },
   "outputs": [
    {
     "data": {
      "text/plain": [
       "KNeighborsClassifier()"
      ]
     },
     "execution_count": 60,
     "metadata": {},
     "output_type": "execute_result"
    }
   ],
   "source": [
    "#K_NN\n",
    "#Fitting K-NN to the Training set\n",
    "from sklearn.neighbors import KNeighborsClassifier\n",
    "classifier=KNeighborsClassifier(n_neighbors=5,metric='minkowski',p=2)\n",
    "classifier.fit(x_train,y_train)"
   ]
  },
  {
   "cell_type": "code",
   "execution_count": 61,
   "metadata": {
    "id": "tL3q1-627dfO"
   },
   "outputs": [],
   "source": [
    "#predicting the test set results\n",
    "pred=classifier.predict(x_test)"
   ]
  },
  {
   "cell_type": "code",
   "execution_count": 62,
   "metadata": {
    "colab": {
     "base_uri": "https://localhost:8080/"
    },
    "id": "ydI73Dak7db4",
    "outputId": "1f3a7993-93ba-4b60-ecab-7990bccf476d"
   },
   "outputs": [
    {
     "data": {
      "text/plain": [
       "0.968"
      ]
     },
     "execution_count": 62,
     "metadata": {},
     "output_type": "execute_result"
    }
   ],
   "source": [
    "#to measure the accuracy of model\n",
    "from sklearn.metrics import accuracy_score,confusion_matrix,classification_report\n",
    "accuracy_score(y_test,pred)"
   ]
  },
  {
   "cell_type": "code",
   "execution_count": 63,
   "metadata": {
    "colab": {
     "base_uri": "https://localhost:8080/"
    },
    "id": "Ybq-E4vi7dXm",
    "outputId": "1a0bf72e-8f69-4db9-a5f5-e1c24c6be3c2"
   },
   "outputs": [
    {
     "data": {
      "text/plain": [
       "array([[3620,   14],\n",
       "       [ 106,   10]], dtype=int64)"
      ]
     },
     "execution_count": 63,
     "metadata": {},
     "output_type": "execute_result"
    }
   ],
   "source": [
    "#making confusion matrix\n",
    "confusion_matrix(y_test,pred)"
   ]
  },
  {
   "cell_type": "code",
   "execution_count": 64,
   "metadata": {
    "colab": {
     "base_uri": "https://localhost:8080/"
    },
    "id": "uCjtViR67iHa",
    "outputId": "99a276ad-edbd-41ce-90e4-e4e5dff40925"
   },
   "outputs": [
    {
     "name": "stdout",
     "output_type": "stream",
     "text": [
      "              precision    recall  f1-score   support\n",
      "\n",
      "           0       0.97      1.00      0.98      3634\n",
      "           1       0.42      0.09      0.14       116\n",
      "\n",
      "    accuracy                           0.97      3750\n",
      "   macro avg       0.69      0.54      0.56      3750\n",
      "weighted avg       0.95      0.97      0.96      3750\n",
      "\n"
     ]
    }
   ],
   "source": [
    "#classification report\n",
    "D=classification_report(y_test,pred)\n",
    "print(D) "
   ]
  },
  {
   "cell_type": "markdown",
   "metadata": {},
   "source": [
    "### 6.4.1 KNN accuracy"
   ]
  },
  {
   "cell_type": "code",
   "execution_count": 65,
   "metadata": {
    "colab": {
     "base_uri": "https://localhost:8080/"
    },
    "id": "9TyNfg3nU8Ce",
    "outputId": "5a743e1e-f905-4558-c077-e95fd6331026"
   },
   "outputs": [
    {
     "name": "stdout",
     "output_type": "stream",
     "text": [
      "KNN accuracy: 96.8\n"
     ]
    }
   ],
   "source": [
    "KNN_acc = accuracy_score(y_test,pred)*100\n",
    "print(\"KNN accuracy:\",KNN_acc)\n",
    "accuracies['KNN']=KNN_acc"
   ]
  },
  {
   "cell_type": "markdown",
   "metadata": {
    "id": "QhRVFK0mXmDo"
   },
   "source": [
    "***\n",
    "## 7. Comparision Of Accuracy\n",
    "***"
   ]
  },
  {
   "cell_type": "code",
   "execution_count": 66,
   "metadata": {
    "colab": {
     "base_uri": "https://localhost:8080/",
     "height": 427
    },
    "id": "rZxECnuwVQg_",
    "outputId": "e367020c-c44c-47cb-d502-f802daa0f861"
   },
   "outputs": [
    {
     "data": {
      "image/png": "[encoded data removed]",
      "text/plain": [
       "<Figure size 720x360 with 1 Axes>"
      ]
     },
     "metadata": {},
     "output_type": "display_data"
    },
    {
     "name": "stdout",
     "output_type": "stream",
     "text": [
      "Logistic_acc =  96.82666666666667\n",
      "Random_Forest_acc =  96.96000000000001\n",
      "DecisionTree_acc =  95.92\n",
      "KNN_acc =  96.8\n"
     ]
    }
   ],
   "source": [
    "colors = [\"#00008b\", \"#00e5ee\", \"#cd1076\", \"#008080\",\"#cd5555\",'black']\n",
    "\n",
    "sns.set_style(\"whitegrid\")\n",
    "plt.figure(figsize=(10,5))\n",
    "plt.yticks(np.arange(0,100,5))\n",
    "plt.ylabel(\"Accuracy %\")\n",
    "plt.xlabel(\"\\n\\n Algorithms\")\n",
    "sns.barplot(x=list(accuracies.keys()), y=list(accuracies.values()), palette=colors)\n",
    "plt.show()\n",
    "\n",
    "print(\"Logistic_acc = \",Logistic_acc)\n",
    "print(\"Random_Forest_acc = \",Random_Forest_acc)\n",
    "print(\"DecisionTree_acc = \",DecisionTree_acc)\n",
    "print(\"KNN_acc = \",KNN_acc)"
   ]
  },
  {
   "cell_type": "markdown",
   "metadata": {
    "id": "WmJah71aXy6U"
   },
   "source": [
    "***\n",
    "## 8. Conclusion\n",
    "***"
   ]
  },
  {
   "cell_type": "markdown",
   "metadata": {
    "id": "gSZagnL8BQUI"
   },
   "source": [
    "   The customer's account balance has a huge influence on the campaign's outcome. People with account balance are more likely to subscribe for term deposit, so future address those customers.The customer's age affects campaign outcome as well. Future campains should concentrate on customers from age categories below 30 years old and above 50 years old.Number of contacts with the customer during the campaign is also very important. The number of contacts with the customer shouldn't exceed 4."
   ]
  }
 ],
 "metadata": {
  "colab": {
   "collapsed_sections": [],
   "name": "NAVEEN_B_CAPSTONE_PROJECT_IMARTICUS_LEARNING.ipynb",
   "provenance": []
  },
  "kernelspec": {
   "display_name": "Python 3 (ipykernel)",
   "language": "python",
   "name": "python3"
  },
  "language_info": {
   "codemirror_mode": {
    "name": "ipython",
    "version": 3
   },
   "file_extension": ".py",
   "mimetype": "text/x-python",
   "name": "python",
   "nbconvert_exporter": "python",
   "pygments_lexer": "ipython3",
   "version": "3.9.7"
  }
 },
 "nbformat": 4,
 "nbformat_minor": 1
}
